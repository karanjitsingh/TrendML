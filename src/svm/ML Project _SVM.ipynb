{
 "cells": [
  {
   "cell_type": "markdown",
   "metadata": {},
   "source": [
    "## Using SVM Models on crypto price trend prediction"
   ]
  },
  {
   "cell_type": "code",
   "execution_count": 36,
   "metadata": {},
   "outputs": [
    {
     "ename": "ModuleNotFoundError",
     "evalue": "No module named 'plotly'",
     "output_type": "error",
     "traceback": [
      "\u001b[1;31m---------------------------------------------------------------------------\u001b[0m",
      "\u001b[1;31mModuleNotFoundError\u001b[0m                       Traceback (most recent call last)",
      "\u001b[1;32m<ipython-input-36-fe8fefc5e734>\u001b[0m in \u001b[0;36m<module>\u001b[1;34m\u001b[0m\n\u001b[0;32m     51\u001b[0m \u001b[1;33m\u001b[0m\u001b[0m\n\u001b[0;32m     52\u001b[0m \u001b[1;33m\u001b[0m\u001b[0m\n\u001b[1;32m---> 53\u001b[1;33m \u001b[1;32mimport\u001b[0m \u001b[0mplotly\u001b[0m\u001b[1;33m\u001b[0m\u001b[1;33m\u001b[0m\u001b[0m\n\u001b[0m\u001b[0;32m     54\u001b[0m \u001b[1;32mimport\u001b[0m \u001b[0mplotly\u001b[0m\u001b[1;33m.\u001b[0m\u001b[0mplotly\u001b[0m \u001b[1;32mas\u001b[0m \u001b[0mpy\u001b[0m\u001b[1;33m\u001b[0m\u001b[1;33m\u001b[0m\u001b[0m\n\u001b[0;32m     55\u001b[0m \u001b[1;32mimport\u001b[0m \u001b[0mplotly\u001b[0m\u001b[1;33m.\u001b[0m\u001b[0mgraph_objs\u001b[0m \u001b[1;32mas\u001b[0m \u001b[0mgo\u001b[0m\u001b[1;33m\u001b[0m\u001b[1;33m\u001b[0m\u001b[0m\n",
      "\u001b[1;31mModuleNotFoundError\u001b[0m: No module named 'plotly'"
     ]
    }
   ],
   "source": [
    "# Preliminary code needed for importing from parent directory\n",
    "import os,sys,inspect\n",
    "currentdir = os.path.dirname(os.path.abspath(inspect.getfile(inspect.currentframe())))\n",
    "parentdir = os.path.dirname(currentdir)\n",
    "sys.path.insert(0,parentdir) \n",
    "\n",
    "# Import data API\n",
    "from data import series\n",
    "\n",
    "import numpy as np\n",
    "\n",
    "# This classifier first converts the target values into {-1, 1} and then treats the problem as a regression task\n",
    "# (multi-output regression in the multiclass case).\n",
    "from sklearn.linear_model import RidgeClassifier\n",
    "from sklearn.linear_model import LogisticRegression\n",
    "from sklearn import svm\n",
    "from sklearn.model_selection import cross_val_score, GridSearchCV, cross_validate, train_test_split\n",
    "from sklearn.metrics import accuracy_score, classification_report\n",
    "from sklearn.svm import SVC\n",
    "from sklearn.preprocessing import StandardScaler, normalize\n",
    "\n",
    "from sklearn.model_selection import train_test_split\n",
    "\n",
    "from mpl_toolkits.mplot3d import Axes3D\n",
    "\n",
    "\n",
    "\n",
    "import matplotlib.pyplot as plt\n",
    "\n",
    "from bs4 import BeautifulSoup\n",
    "import datetime\n",
    "import json\n",
    "import numpy as np\n",
    "import pandas as pd\n",
    "import requests\n",
    "import time\n",
    "import warnings\n",
    "warnings.simplefilter('ignore')\n",
    "\n",
    "import talib as ta\n",
    "from talib import MA_Type\n",
    "\n",
    "from sklearn import preprocessing\n",
    "from sklearn.model_selection import train_test_split\n",
    "from sklearn import metrics\n",
    "from sklearn import svm\n",
    "\n",
    "import matplotlib.pyplot as plt\n",
    "from matplotlib.dates import DateFormatter\n",
    "import matplotlib.ticker as ticker\n",
    "\n"
   ]
  },
  {
   "cell_type": "markdown",
   "metadata": {},
   "source": [
    "### Data Import Functions"
   ]
  },
  {
   "cell_type": "code",
   "execution_count": 6,
   "metadata": {},
   "outputs": [],
   "source": [
    " def gen_X_y(symbol: str, timeframe: str):\n",
    "    # Create a series for BTC-USDT pair on 1h candles\n",
    "    # btc = series.DataSeries('BTCUSDT', '1h')\n",
    "    btc = series.DataSeries(symbol, timeframe)\n",
    "    data = btc.getData()\n",
    "    #data\n",
    "    # print(data.keys())\n",
    "\n",
    "    price_close = data['close']\n",
    "    # print(len(price_close))\n",
    "    \n",
    "    prev5 = np.concatenate([\n",
    "            # pivot timeframe\n",
    "            price_close[np.newaxis, 5:],\n",
    "            # previous 5 timeframes\n",
    "            price_close[np.newaxis, 4:-1], # 1 frame ago\n",
    "            price_close[np.newaxis, 3:-2], # 2 frame ago\n",
    "            price_close[np.newaxis, 2:-3], # 3 frame ago\n",
    "            price_close[np.newaxis, 1:-4], # 4 frame ago\n",
    "            price_close[np.newaxis, :-5],  # 5 frame ago\n",
    "        ],\n",
    "        axis = 0\n",
    "    )\n",
    "\n",
    "    # Generate truth values (y)\n",
    "    y = prev5[0, :] > np.amin(prev5[1:, :], axis = 0)\n",
    "#     print('timeframe:', timeframe)\n",
    "#     print('number of times where trend is up: ', y[y == True].shape)\n",
    "#     print('number of times where trend is down: ', y[y == False].shape)\n",
    "    \n",
    "    btc.addIndicator('RSI', data['close'], 30) # 30-timeframe RSI\n",
    "\n",
    "    btc.addIndicator('EMA', data['close'], 30) # 30-timeframe EMA\n",
    "    # btc1h.addIndicator('EMA', btc1h.getData()['close'], 50) # 50-timeframe EMA\n",
    "\n",
    "    ## MFI: https://www.investopedia.com/terms/m/mfi.asp\n",
    "    btc.addIndicator('MFI', data['high'], data['low'], data['close'], data['volume'], 10) # 10-timeframe MFI\n",
    "\n",
    "    ## MACD: https://www.investopedia.com/terms/m/macd.asp\n",
    "    btc.addIndicator('MACD', data['close'], 12, 26) # fast = 12, slow = 26\n",
    "\n",
    "    indicators = btc.getIndicators()\n",
    "    #for indicator in indicators.keys():\n",
    "        #print(indicator)\n",
    "      \n",
    "    time_cut = 50\n",
    "\n",
    "    # Each technical indicator consists one column of X.\n",
    "    X = np.concatenate(\n",
    "        (\n",
    "            indicators['RSI'][np.newaxis, time_cut:].T,\n",
    "            indicators['EMA'][np.newaxis, time_cut:].T,\n",
    "            indicators['MFI'][np.newaxis, time_cut:].T\n",
    "        ),\n",
    "        axis = 1\n",
    "    )\n",
    "    \n",
    "   # X_1 =my_data.loc[:, my_data.columns != 'y']\n",
    "    # print('shape of X:', X.shape)\n",
    "    # print('shape of y:', y.shape)\n",
    "\n",
    "    y_truncate = y[(time_cut - 5):]\n",
    "    \n",
    "    return (X, y_truncate)"
   ]
  },
  {
   "cell_type": "markdown",
   "metadata": {},
   "source": [
    "### Hour timeframe data, correcting imbalanced data, creating train and test sets"
   ]
  },
  {
   "cell_type": "code",
   "execution_count": 7,
   "metadata": {},
   "outputs": [
    {
     "name": "stdout",
     "output_type": "stream",
     "text": [
      "X, y generated from 1h-scale data\n",
      "train set size: (22967,)\n",
      "test set size: (7656,)\n",
      "hour scale price data\n",
      "True count: 24621\n",
      "False count: 6002\n",
      "Train set True/False ratio: 4492 / 4511\n",
      "Test set True/False ratio: 1510 / 1491\n"
     ]
    }
   ],
   "source": [
    "X_h, y_h = gen_X_y('BTCUSDT', '1h')\n",
    "\n",
    "\n",
    "# Split train/test sets\n",
    "X_train_h, X_test_h, y_train_h, y_test_h = train_test_split(X_h, y_h)\n",
    "print('X, y generated from 1h-scale data')\n",
    "print('train set size:', y_train_h.shape)\n",
    "print('test set size:', y_test_h.shape)\n",
    "\n",
    "\n",
    "\n",
    "print('hour scale price data')\n",
    "print('True count:', len(y_h[y_h == True]))\n",
    "print('False count:', len(y_h[y_h == False]))\n",
    "\n",
    "indices = np.where(y_h == True)[0]\n",
    "if len(y_h[y_h == True]) > len(y_h[y_h == False]):\n",
    "    indices = np.random.choice(indices, size = len(y_h[y_h == False]), replace = False)\n",
    "else:\n",
    "    raise NotImplementedError\n",
    "    \n",
    "# Combine the `True` indices with `False` indices\n",
    "indices = np.concatenate((indices, np.where(y_h == False)[0]))\n",
    "seed =1234\n",
    "X_train_h_even, X_test_h_even, y_train_h_even, y_test_h_even = train_test_split(X_h[indices], y_h[indices])\n",
    "print('Train set True/False ratio:', len(np.where(y_train_h_even == True)[0]), '/', len(np.where(y_train_h_even == False)[0]))\n",
    "print('Test set True/False ratio:', len(np.where(y_test_h_even == True)[0]), '/', len(np.where(y_test_h_even == False)[0]))"
   ]
  },
  {
   "cell_type": "markdown",
   "metadata": {},
   "source": [
    "### Day timeframe data, correcting imbalanced data, creating train and test sets"
   ]
  },
  {
   "cell_type": "code",
   "execution_count": 9,
   "metadata": {},
   "outputs": [
    {
     "name": "stdout",
     "output_type": "stream",
     "text": [
      "X, y generated from 1d-scale data\n",
      "train set size: (924,)\n",
      "test set size: (309,)\n",
      "day scale price data\n",
      "True count: 1000\n",
      "False count: 233\n",
      "Total dataset size (train + test): 466\n",
      "Train set True/False ratio: 173 / 176\n",
      "Test set True/False ratio: 60 / 57\n"
     ]
    }
   ],
   "source": [
    "X_d, y_d = gen_X_y('BTCUSDT', '1d')\n",
    "\n",
    "# Split train/test sets\n",
    "X_train_d, X_test_d, y_train_d, y_test_d = train_test_split(X_d, y_d)\n",
    "print('X, y generated from 1d-scale data')\n",
    "print('train set size:', y_train_d.shape)\n",
    "print('test set size:', y_test_d.shape)\n",
    "\n",
    "print('day scale price data')\n",
    "print('True count:', len(y_d[y_d == True]))\n",
    "print('False count:', len(y_d[y_d == False]))\n",
    "\n",
    "indices = np.where(y_d == True)[0]\n",
    "if len(y_d[y_d == True]) > len(y_d[y_d == False]):\n",
    "    indices = np.random.choice(indices, size = len(y_d[y_d == False]), replace = False)\n",
    "else:\n",
    "    raise NotImplementedError\n",
    "    \n",
    "# Combine the `True` indices with `False` indices\n",
    "indices = np.concatenate((indices, np.where(y_d == False)[0]))\n",
    "seed =1234\n",
    "X_train_d_even, X_test_d_even, y_train_d_even, y_test_d_even = train_test_split(X_d[indices], y_d[indices])\n",
    "print('Total dataset size (train + test):', indices.shape[0])\n",
    "print('Train set True/False ratio:', len(np.where(y_train_d_even == True)[0]), '/', len(np.where(y_train_d_even == False)[0]))\n",
    "print('Test set True/False ratio:', len(np.where(y_test_d_even == True)[0]), '/', len(np.where(y_test_d_even == False)[0]))\n"
   ]
  },
  {
   "cell_type": "markdown",
   "metadata": {},
   "source": [
    "## Starting the SVM Modelling"
   ]
  },
  {
   "cell_type": "code",
   "execution_count": 10,
   "metadata": {},
   "outputs": [],
   "source": [
    "\n",
    "# Scale all the x variables \n",
    "scaled_x_train = StandardScaler().fit_transform(X_train_d_even)\n",
    "scaled_x_test=StandardScaler().fit_transform(X_test_d_even)\n",
    "\n"
   ]
  },
  {
   "cell_type": "code",
   "execution_count": 11,
   "metadata": {},
   "outputs": [],
   "source": [
    "# running the svm model with no parameter tuning \n",
    "svmmodel = SVC(gamma='auto')\n",
    "svmmodel.fit(X_train_d_even, y_train_d_even)\n",
    "y_predict_train = svmmodel.predict(scaled_x_train)\n",
    "y_predict_test = svmmodel.predict(scaled_x_test)"
   ]
  },
  {
   "cell_type": "code",
   "execution_count": 12,
   "metadata": {},
   "outputs": [
    {
     "data": {
      "text/plain": [
       "0.504297994269341"
      ]
     },
     "execution_count": 12,
     "metadata": {},
     "output_type": "execute_result"
    }
   ],
   "source": [
    "# check the train-set accuracy \n",
    "train_accuracy = accuracy_score(y_train_d_even,y_predict_train)\n",
    "train_accuracy"
   ]
  },
  {
   "cell_type": "code",
   "execution_count": 13,
   "metadata": {},
   "outputs": [
    {
     "data": {
      "text/plain": [
       "0.48717948717948717"
      ]
     },
     "execution_count": 13,
     "metadata": {},
     "output_type": "execute_result"
    }
   ],
   "source": [
    "# check the test-set accuracy \n",
    "test_accuracy = accuracy_score(y_test_d_even,y_predict_test)\n",
    "test_accuracy"
   ]
  },
  {
   "cell_type": "code",
   "execution_count": 26,
   "metadata": {},
   "outputs": [
    {
     "data": {
      "text/plain": [
       "GridSearchCV(estimator=SVC(gamma='auto'), n_jobs=-1,\n",
       "             param_grid={'C': [0.001, 0.01, 0.1, 1.0, 10.0, 100.0, 1000.0],\n",
       "                         'kernel': ('linear', 'rbf')},\n",
       "             return_train_score=True)"
      ]
     },
     "execution_count": 26,
     "metadata": {},
     "output_type": "execute_result"
    }
   ],
   "source": [
    "# Parameter Tuning using different Kernel and different values of C\n",
    "\n",
    "svm_parameters = {'kernel':('linear', 'rbf'), 'C':[0.001,0.01, 0.1, 1.0,10.0, 100.0,1000.0]}\n",
    "        # ADD CODE HERE\n",
    "svc = SVC(gamma='auto')\n",
    "svm_cv = GridSearchCV(svc,svm_parameters,n_jobs=-1,return_train_score=True)\n",
    "svm_cv.fit(scaled_x_train,y_train_d_even)\n"
   ]
  },
  {
   "cell_type": "code",
   "execution_count": 27,
   "metadata": {},
   "outputs": [
    {
     "data": {
      "text/plain": [
       "0.676231884057971"
      ]
     },
     "execution_count": 27,
     "metadata": {},
     "output_type": "execute_result"
    }
   ],
   "source": [
    "# best score for the svm model \n",
    "best_score= svm_cv.best_score_\n",
    "best_score"
   ]
  },
  {
   "cell_type": "code",
   "execution_count": 28,
   "metadata": {},
   "outputs": [],
   "source": [
    "y_predict_train = svm_cv.predict(scaled_x_train)\n",
    "y_predict_test = svm_cv.predict(scaled_x_test)"
   ]
  },
  {
   "cell_type": "code",
   "execution_count": 29,
   "metadata": {},
   "outputs": [],
   "source": [
    "train_accuracy = accuracy_score(y_train_d_even, y_predict_train)\n",
    "test_accuracy = accuracy_score(y_test_d_even, y_predict_test)\n"
   ]
  },
  {
   "cell_type": "code",
   "execution_count": 30,
   "metadata": {},
   "outputs": [
    {
     "name": "stdout",
     "output_type": "stream",
     "text": [
      "0.7106017191977078\n",
      "0.6410256410256411\n"
     ]
    }
   ],
   "source": [
    "print(train_accuracy)\n",
    "print(test_accuracy)"
   ]
  },
  {
   "cell_type": "code",
   "execution_count": 31,
   "metadata": {},
   "outputs": [
    {
     "data": {
      "text/plain": [
       "array([12, 13,  9, 13,  2,  3,  4,  1,  4,  8,  4, 10,  4, 11])"
      ]
     },
     "execution_count": 31,
     "metadata": {},
     "output_type": "execute_result"
    }
   ],
   "source": [
    "rank_test_score = svm_cv.cv_results_['rank_test_score']\n",
    "rank_test_score"
   ]
  },
  {
   "cell_type": "code",
   "execution_count": 32,
   "metadata": {},
   "outputs": [
    {
     "data": {
      "text/plain": [
       "array([0.51585921, 0.50430642, 0.66761905, 0.50430642, 0.67619048,\n",
       "       0.67333333, 0.67329193, 0.67623188, 0.67329193, 0.6705176 ,\n",
       "       0.67329193, 0.63602484, 0.67329193, 0.61022774])"
      ]
     },
     "execution_count": 32,
     "metadata": {},
     "output_type": "execute_result"
    }
   ],
   "source": [
    "mean_test_score = svm_cv.cv_results_['mean_test_score']\n",
    "mean_test_score"
   ]
  },
  {
   "cell_type": "code",
   "execution_count": 33,
   "metadata": {},
   "outputs": [
    {
     "data": {
      "text/plain": [
       "{'mean_fit_time': array([0.00979605, 0.00800042, 0.00879974, 0.0075994 , 0.00559921,\n",
       "        0.01180129, 0.00760055, 0.00731792, 0.01360145, 0.00840025,\n",
       "        0.08836265, 0.02435942, 0.47980084, 0.21229291]),\n",
       " 'std_fit_time': array([0.00247779, 0.00063295, 0.0044463 , 0.00079914, 0.00185566,\n",
       "        0.0059809 , 0.00320005, 0.00077481, 0.00265347, 0.0010194 ,\n",
       "        0.02559945, 0.00238946, 0.09183802, 0.07576667]),\n",
       " 'mean_score_time': array([0.00280128, 0.00280099, 0.00139999, 0.00240097, 0.00280228,\n",
       "        0.00219946, 0.00140109, 0.00182891, 0.00199962, 0.0015996 ,\n",
       "        0.00760002, 0.00179963, 0.00406995, 0.00140061]),\n",
       " 'std_score_time': array([0.00074746, 0.00075026, 0.00049008, 0.00049059, 0.00098024,\n",
       "        0.00040028, 0.00049035, 0.00050956, 0.00063196, 0.0004908 ,\n",
       "        0.01072528, 0.00097973, 0.00538178, 0.00048831]),\n",
       " 'param_C': masked_array(data=[0.001, 0.001, 0.01, 0.01, 0.1, 0.1, 1.0, 1.0, 10.0,\n",
       "                    10.0, 100.0, 100.0, 1000.0, 1000.0],\n",
       "              mask=[False, False, False, False, False, False, False, False,\n",
       "                    False, False, False, False, False, False],\n",
       "        fill_value='?',\n",
       "             dtype=object),\n",
       " 'param_kernel': masked_array(data=['linear', 'rbf', 'linear', 'rbf', 'linear', 'rbf',\n",
       "                    'linear', 'rbf', 'linear', 'rbf', 'linear', 'rbf',\n",
       "                    'linear', 'rbf'],\n",
       "              mask=[False, False, False, False, False, False, False, False,\n",
       "                    False, False, False, False, False, False],\n",
       "        fill_value='?',\n",
       "             dtype=object),\n",
       " 'params': [{'C': 0.001, 'kernel': 'linear'},\n",
       "  {'C': 0.001, 'kernel': 'rbf'},\n",
       "  {'C': 0.01, 'kernel': 'linear'},\n",
       "  {'C': 0.01, 'kernel': 'rbf'},\n",
       "  {'C': 0.1, 'kernel': 'linear'},\n",
       "  {'C': 0.1, 'kernel': 'rbf'},\n",
       "  {'C': 1.0, 'kernel': 'linear'},\n",
       "  {'C': 1.0, 'kernel': 'rbf'},\n",
       "  {'C': 10.0, 'kernel': 'linear'},\n",
       "  {'C': 10.0, 'kernel': 'rbf'},\n",
       "  {'C': 100.0, 'kernel': 'linear'},\n",
       "  {'C': 100.0, 'kernel': 'rbf'},\n",
       "  {'C': 1000.0, 'kernel': 'linear'},\n",
       "  {'C': 1000.0, 'kernel': 'rbf'}],\n",
       " 'split0_test_score': array([0.51428571, 0.51428571, 0.71428571, 0.51428571, 0.71428571,\n",
       "        0.72857143, 0.72857143, 0.74285714, 0.72857143, 0.77142857,\n",
       "        0.72857143, 0.71428571, 0.72857143, 0.68571429]),\n",
       " 'split1_test_score': array([0.5       , 0.5       , 0.62857143, 0.5       , 0.67142857,\n",
       "        0.65714286, 0.67142857, 0.67142857, 0.67142857, 0.68571429,\n",
       "        0.67142857, 0.64285714, 0.67142857, 0.62857143]),\n",
       " 'split2_test_score': array([0.51428571, 0.5       , 0.64285714, 0.5       , 0.64285714,\n",
       "        0.61428571, 0.62857143, 0.61428571, 0.62857143, 0.6       ,\n",
       "        0.62857143, 0.58571429, 0.62857143, 0.55714286]),\n",
       " 'split3_test_score': array([0.5       , 0.5       , 0.68571429, 0.5       , 0.68571429,\n",
       "        0.7       , 0.68571429, 0.67142857, 0.68571429, 0.61428571,\n",
       "        0.68571429, 0.62857143, 0.68571429, 0.6       ]),\n",
       " 'split4_test_score': array([0.55072464, 0.50724638, 0.66666667, 0.50724638, 0.66666667,\n",
       "        0.66666667, 0.65217391, 0.68115942, 0.65217391, 0.68115942,\n",
       "        0.65217391, 0.60869565, 0.65217391, 0.57971014]),\n",
       " 'mean_test_score': array([0.51585921, 0.50430642, 0.66761905, 0.50430642, 0.67619048,\n",
       "        0.67333333, 0.67329193, 0.67623188, 0.67329193, 0.6705176 ,\n",
       "        0.67329193, 0.63602484, 0.67329193, 0.61022774]),\n",
       " 'std_test_score': array([0.01856652, 0.00572478, 0.03047619, 0.00572478, 0.02352207,\n",
       "        0.03887301, 0.03364373, 0.0408575 , 0.03364373, 0.06109332,\n",
       "        0.03364373, 0.04360054, 0.03364373, 0.04447166]),\n",
       " 'rank_test_score': array([12, 13,  9, 13,  2,  3,  4,  1,  4,  8,  4, 10,  4, 11]),\n",
       " 'split0_train_score': array([0.52688172, 0.50179211, 0.6702509 , 0.50179211, 0.68100358,\n",
       "        0.68100358, 0.67741935, 0.68458781, 0.67741935, 0.70609319,\n",
       "        0.67741935, 0.73476703, 0.67741935, 0.7562724 ]),\n",
       " 'split1_train_score': array([0.51612903, 0.50537634, 0.67741935, 0.50537634, 0.71326165,\n",
       "        0.70967742, 0.70967742, 0.72043011, 0.70967742, 0.72401434,\n",
       "        0.70967742, 0.74910394, 0.70967742, 0.77419355]),\n",
       " 'split2_train_score': array([0.5125448 , 0.50537634, 0.67383513, 0.50537634, 0.71326165,\n",
       "        0.70967742, 0.72759857, 0.72401434, 0.72759857, 0.7311828 ,\n",
       "        0.72759857, 0.74193548, 0.72759857, 0.79569892]),\n",
       " 'split3_train_score': array([0.50537634, 0.50537634, 0.6702509 , 0.50537634, 0.70609319,\n",
       "        0.69892473, 0.70609319, 0.70250896, 0.70609319, 0.7311828 ,\n",
       "        0.70609319, 0.74910394, 0.70609319, 0.76344086]),\n",
       " 'split4_train_score': array([0.51071429, 0.50357143, 0.67857143, 0.50357143, 0.68928571,\n",
       "        0.69642857, 0.68928571, 0.70714286, 0.69285714, 0.71785714,\n",
       "        0.69285714, 0.72857143, 0.69285714, 0.75      ]),\n",
       " 'mean_train_score': array([0.51432924, 0.50429852, 0.67406554, 0.50429852, 0.70058116,\n",
       "        0.69914235, 0.70201485, 0.70773682, 0.70272913, 0.72206605,\n",
       "        0.70272913, 0.74069636, 0.70272913, 0.76792115]),\n",
       " 'std_train_score': array([0.00717231, 0.00143498, 0.00348446, 0.00143498, 0.01313652,\n",
       "        0.0105679 , 0.01730228, 0.01406867, 0.01682929, 0.00941141,\n",
       "        0.01682929, 0.00806327, 0.01682929, 0.01604919])}"
      ]
     },
     "execution_count": 33,
     "metadata": {},
     "output_type": "execute_result"
    }
   ],
   "source": [
    "svm_cv.cv_results_\n",
    "\n",
    "# lin 0.01, rbf 0.01, lin 0.1, rbf 0.1, lin 1.0, rbf 1.0 \n",
    "#0.66761905, 0.50430642, 0.67619048, 0.67333333, 0.67329193, 0.67623188\n",
    "\n"
   ]
  },
  {
   "cell_type": "markdown",
   "metadata": {},
   "source": [
    "### Plotting the SVM graphs"
   ]
  },
  {
   "cell_type": "code",
   "execution_count": null,
   "metadata": {},
   "outputs": [],
   "source": []
  },
  {
   "cell_type": "code",
   "execution_count": null,
   "metadata": {},
   "outputs": [],
   "source": []
  },
  {
   "cell_type": "code",
   "execution_count": null,
   "metadata": {},
   "outputs": [],
   "source": []
  },
  {
   "cell_type": "code",
   "execution_count": null,
   "metadata": {},
   "outputs": [],
   "source": []
  },
  {
   "cell_type": "code",
   "execution_count": null,
   "metadata": {},
   "outputs": [],
   "source": []
  },
  {
   "cell_type": "code",
   "execution_count": 24,
   "metadata": {},
   "outputs": [
    {
     "data": {
      "text/plain": [
       "(-3.7597230886893622, 4.632646056030115)"
      ]
     },
     "execution_count": 24,
     "metadata": {},
     "output_type": "execute_result"
    }
   ],
   "source": [
    "x_min, x_max = scaled_x_test[:, 0:2].min() - 1, scaled_x_test[:, 0:2].max() + 1\n",
    "\n",
    "x_min, x_max"
   ]
  },
  {
   "cell_type": "code",
   "execution_count": null,
   "metadata": {},
   "outputs": [],
   "source": []
  },
  {
   "cell_type": "code",
   "execution_count": 25,
   "metadata": {},
   "outputs": [
    {
     "ename": "ValueError",
     "evalue": "X.shape[1] = 2 should be equal to 3, the number of features at training time",
     "output_type": "error",
     "traceback": [
      "\u001b[1;31m---------------------------------------------------------------------------\u001b[0m",
      "\u001b[1;31mValueError\u001b[0m                                Traceback (most recent call last)",
      "\u001b[1;32m<ipython-input-25-c7485680a4c5>\u001b[0m in \u001b[0;36m<module>\u001b[1;34m\u001b[0m\n\u001b[0;32m     38\u001b[0m     \u001b[0mplt\u001b[0m\u001b[1;33m.\u001b[0m\u001b[0msubplots_adjust\u001b[0m\u001b[1;33m(\u001b[0m\u001b[0mwspace\u001b[0m\u001b[1;33m=\u001b[0m\u001b[1;36m0.4\u001b[0m\u001b[1;33m,\u001b[0m \u001b[0mhspace\u001b[0m\u001b[1;33m=\u001b[0m\u001b[1;36m0.4\u001b[0m\u001b[1;33m)\u001b[0m\u001b[1;33m\u001b[0m\u001b[1;33m\u001b[0m\u001b[0m\n\u001b[0;32m     39\u001b[0m \u001b[1;33m\u001b[0m\u001b[0m\n\u001b[1;32m---> 40\u001b[1;33m     \u001b[0mZ\u001b[0m \u001b[1;33m=\u001b[0m \u001b[0mclf\u001b[0m\u001b[1;33m.\u001b[0m\u001b[0mpredict\u001b[0m\u001b[1;33m(\u001b[0m\u001b[0mnp\u001b[0m\u001b[1;33m.\u001b[0m\u001b[0mc_\u001b[0m\u001b[1;33m[\u001b[0m\u001b[0mxx\u001b[0m\u001b[1;33m.\u001b[0m\u001b[0mravel\u001b[0m\u001b[1;33m(\u001b[0m\u001b[1;33m)\u001b[0m\u001b[1;33m,\u001b[0m \u001b[0myy\u001b[0m\u001b[1;33m.\u001b[0m\u001b[0mravel\u001b[0m\u001b[1;33m(\u001b[0m\u001b[1;33m)\u001b[0m\u001b[1;33m]\u001b[0m\u001b[1;33m)\u001b[0m\u001b[1;33m\u001b[0m\u001b[1;33m\u001b[0m\u001b[0m\n\u001b[0m\u001b[0;32m     41\u001b[0m \u001b[1;33m\u001b[0m\u001b[0m\n\u001b[0;32m     42\u001b[0m     \u001b[1;31m# Put the result into a color plot\u001b[0m\u001b[1;33m\u001b[0m\u001b[1;33m\u001b[0m\u001b[1;33m\u001b[0m\u001b[0m\n",
      "\u001b[1;32m~\\anaconda3\\lib\\site-packages\\sklearn\\svm\\_base.py\u001b[0m in \u001b[0;36mpredict\u001b[1;34m(self, X)\u001b[0m\n\u001b[0;32m    613\u001b[0m             \u001b[0my\u001b[0m \u001b[1;33m=\u001b[0m \u001b[0mnp\u001b[0m\u001b[1;33m.\u001b[0m\u001b[0margmax\u001b[0m\u001b[1;33m(\u001b[0m\u001b[0mself\u001b[0m\u001b[1;33m.\u001b[0m\u001b[0mdecision_function\u001b[0m\u001b[1;33m(\u001b[0m\u001b[0mX\u001b[0m\u001b[1;33m)\u001b[0m\u001b[1;33m,\u001b[0m \u001b[0maxis\u001b[0m\u001b[1;33m=\u001b[0m\u001b[1;36m1\u001b[0m\u001b[1;33m)\u001b[0m\u001b[1;33m\u001b[0m\u001b[1;33m\u001b[0m\u001b[0m\n\u001b[0;32m    614\u001b[0m         \u001b[1;32melse\u001b[0m\u001b[1;33m:\u001b[0m\u001b[1;33m\u001b[0m\u001b[1;33m\u001b[0m\u001b[0m\n\u001b[1;32m--> 615\u001b[1;33m             \u001b[0my\u001b[0m \u001b[1;33m=\u001b[0m \u001b[0msuper\u001b[0m\u001b[1;33m(\u001b[0m\u001b[1;33m)\u001b[0m\u001b[1;33m.\u001b[0m\u001b[0mpredict\u001b[0m\u001b[1;33m(\u001b[0m\u001b[0mX\u001b[0m\u001b[1;33m)\u001b[0m\u001b[1;33m\u001b[0m\u001b[1;33m\u001b[0m\u001b[0m\n\u001b[0m\u001b[0;32m    616\u001b[0m         \u001b[1;32mreturn\u001b[0m \u001b[0mself\u001b[0m\u001b[1;33m.\u001b[0m\u001b[0mclasses_\u001b[0m\u001b[1;33m.\u001b[0m\u001b[0mtake\u001b[0m\u001b[1;33m(\u001b[0m\u001b[0mnp\u001b[0m\u001b[1;33m.\u001b[0m\u001b[0masarray\u001b[0m\u001b[1;33m(\u001b[0m\u001b[0my\u001b[0m\u001b[1;33m,\u001b[0m \u001b[0mdtype\u001b[0m\u001b[1;33m=\u001b[0m\u001b[0mnp\u001b[0m\u001b[1;33m.\u001b[0m\u001b[0mintp\u001b[0m\u001b[1;33m)\u001b[0m\u001b[1;33m)\u001b[0m\u001b[1;33m\u001b[0m\u001b[1;33m\u001b[0m\u001b[0m\n\u001b[0;32m    617\u001b[0m \u001b[1;33m\u001b[0m\u001b[0m\n",
      "\u001b[1;32m~\\anaconda3\\lib\\site-packages\\sklearn\\svm\\_base.py\u001b[0m in \u001b[0;36mpredict\u001b[1;34m(self, X)\u001b[0m\n\u001b[0;32m    331\u001b[0m         \u001b[0my_pred\u001b[0m \u001b[1;33m:\u001b[0m \u001b[0mndarray\u001b[0m \u001b[0mof\u001b[0m \u001b[0mshape\u001b[0m \u001b[1;33m(\u001b[0m\u001b[0mn_samples\u001b[0m\u001b[1;33m,\u001b[0m\u001b[1;33m)\u001b[0m\u001b[1;33m\u001b[0m\u001b[1;33m\u001b[0m\u001b[0m\n\u001b[0;32m    332\u001b[0m         \"\"\"\n\u001b[1;32m--> 333\u001b[1;33m         \u001b[0mX\u001b[0m \u001b[1;33m=\u001b[0m \u001b[0mself\u001b[0m\u001b[1;33m.\u001b[0m\u001b[0m_validate_for_predict\u001b[0m\u001b[1;33m(\u001b[0m\u001b[0mX\u001b[0m\u001b[1;33m)\u001b[0m\u001b[1;33m\u001b[0m\u001b[1;33m\u001b[0m\u001b[0m\n\u001b[0m\u001b[0;32m    334\u001b[0m         \u001b[0mpredict\u001b[0m \u001b[1;33m=\u001b[0m \u001b[0mself\u001b[0m\u001b[1;33m.\u001b[0m\u001b[0m_sparse_predict\u001b[0m \u001b[1;32mif\u001b[0m \u001b[0mself\u001b[0m\u001b[1;33m.\u001b[0m\u001b[0m_sparse\u001b[0m \u001b[1;32melse\u001b[0m \u001b[0mself\u001b[0m\u001b[1;33m.\u001b[0m\u001b[0m_dense_predict\u001b[0m\u001b[1;33m\u001b[0m\u001b[1;33m\u001b[0m\u001b[0m\n\u001b[0;32m    335\u001b[0m         \u001b[1;32mreturn\u001b[0m \u001b[0mpredict\u001b[0m\u001b[1;33m(\u001b[0m\u001b[0mX\u001b[0m\u001b[1;33m)\u001b[0m\u001b[1;33m\u001b[0m\u001b[1;33m\u001b[0m\u001b[0m\n",
      "\u001b[1;32m~\\anaconda3\\lib\\site-packages\\sklearn\\svm\\_base.py\u001b[0m in \u001b[0;36m_validate_for_predict\u001b[1;34m(self, X)\u001b[0m\n\u001b[0;32m    482\u001b[0m                                  (X.shape[1], self.shape_fit_[0]))\n\u001b[0;32m    483\u001b[0m         \u001b[1;32melif\u001b[0m \u001b[1;32mnot\u001b[0m \u001b[0mcallable\u001b[0m\u001b[1;33m(\u001b[0m\u001b[0mself\u001b[0m\u001b[1;33m.\u001b[0m\u001b[0mkernel\u001b[0m\u001b[1;33m)\u001b[0m \u001b[1;32mand\u001b[0m \u001b[0mX\u001b[0m\u001b[1;33m.\u001b[0m\u001b[0mshape\u001b[0m\u001b[1;33m[\u001b[0m\u001b[1;36m1\u001b[0m\u001b[1;33m]\u001b[0m \u001b[1;33m!=\u001b[0m \u001b[0mself\u001b[0m\u001b[1;33m.\u001b[0m\u001b[0mshape_fit_\u001b[0m\u001b[1;33m[\u001b[0m\u001b[1;36m1\u001b[0m\u001b[1;33m]\u001b[0m\u001b[1;33m:\u001b[0m\u001b[1;33m\u001b[0m\u001b[1;33m\u001b[0m\u001b[0m\n\u001b[1;32m--> 484\u001b[1;33m             raise ValueError(\"X.shape[1] = %d should be equal to %d, \"\n\u001b[0m\u001b[0;32m    485\u001b[0m                              \u001b[1;34m\"the number of features at training time\"\u001b[0m \u001b[1;33m%\u001b[0m\u001b[1;33m\u001b[0m\u001b[1;33m\u001b[0m\u001b[0m\n\u001b[0;32m    486\u001b[0m                              (X.shape[1], self.shape_fit_[1]))\n",
      "\u001b[1;31mValueError\u001b[0m: X.shape[1] = 2 should be equal to 3, the number of features at training time"
     ]
    },
    {
     "data": {
      "text/plain": [
       "<Figure size 432x288 with 0 Axes>"
      ]
     },
     "metadata": {},
     "output_type": "display_data"
    }
   ],
   "source": [
    "\n",
    "h = .02  # step size in the mesh\n",
    "\n",
    "\n",
    "svc_lin_01 = svm.SVC(kernel='linear', C=0.01, gamma='auto').fit(scaled_x_train,y_train_d_even)\n",
    "svc_lin_1 = svm.SVC(kernel='linear', C=0.1, gamma='auto').fit(scaled_x_train,y_train_d_even)\n",
    "svc_lin_10 = svm.SVC(kernel='linear', C=1, gamma='auto').fit(scaled_x_train,y_train_d_even)\n",
    "\n",
    "svc_rbf_01 = svm.SVC(kernel='rbf', C=0.01, gamma='auto').fit(scaled_x_train,y_train_d_even)\n",
    "svc_rbf_1 = svm.SVC(kernel='rbf', C=0.1, gamma='auto').fit(scaled_x_train,y_train_d_even)\n",
    "svc_rbf_10 = svm.SVC(kernel='rbf', C=1, gamma='auto').fit(scaled_x_train,y_train_d_even)\n",
    "\n",
    "\n",
    "\n",
    "\n",
    "\n",
    "\n",
    "\n",
    "\n",
    "# create a mesh to plot in\n",
    "x_min, x_max = scaled_x_test[:, 0:2].min() - 1, scaled_x_test[:, 0:2].max() + 1\n",
    "y_min, y_max = y_test_d_even.min() - 1, y_test_d_even.max() + 1\n",
    "xx, yy = np.meshgrid(np.arange(x_min, x_max, h),\n",
    "                     np.arange(y_min, y_max, h))\n",
    "\n",
    "# title for the plots\n",
    "titles = ['linear kernel with C=0.01',\n",
    "          'linear kernel with C=0.1',\n",
    "          'linear kernel with C=1',\n",
    "          'Rbf kernel with C=0.01',\n",
    "          'Rbf kernel with C=0.1',\n",
    "          'Rbf kernel with C=1']\n",
    "\n",
    "\n",
    "for i, clf in enumerate((svc_lin_01, svc_lin_1, svc_lin_10, svc_rbf_01,svc_rbf_1,svc_rbf_10)):\n",
    "    # Plot the decision boundary. For that, we will assign a color to each\n",
    "    # point in the mesh [x_min, x_max]x[y_min, y_max].\n",
    "    #plt.subplot(3, 3, i + 1)\n",
    "    plt.subplots_adjust(wspace=0.4, hspace=0.4)\n",
    "\n",
    "    Z = clf.predict(np.c_[xx.ravel(), yy.ravel()])\n",
    "\n",
    "    # Put the result into a color plot\n",
    "    Z = Z.reshape(xx.shape)\n",
    "    plt.contourf(xx, yy, Z, cmap=plt.cm.coolwarm, alpha=0.8)\n",
    "\n",
    "    \n",
    "\n",
    "plt.show()"
   ]
  },
  {
   "cell_type": "code",
   "execution_count": null,
   "metadata": {},
   "outputs": [],
   "source": [
    "max_abs_scaler = preprocessing.MaxAbsScaler()\n",
    "\n",
    "Model_Dict = {}\n",
    "\n",
    "for i in Ticker_List:\n",
    "    Stock_Data[i].dropna(inplace=True)\n",
    "    \n",
    "    \n",
    "    X = max_abs_scaler.fit_transform(X)\n",
    "    Y = np.array(Stock_Data[i]['Signal'])\n",
    "   \n",
    "    \n",
    "    X_train, X_test, y_train, y_test = train_test_split(X, Y, test_size=0.3)\n",
    "    \n",
    "    Model_Dict[i] = {}\n",
    "    Model_Dict[i]['X Train'] = X_train\n",
    "    Model_Dict[i]['X Test'] = X_test\n",
    "    Model_Dict[i]['Y Train'] = y_train\n",
    "    Model_Dict[i]['Y Test'] = y_test\n",
    "    \n",
    "    model = svm.SVC(kernel='rbf',decision_function_shape='ovo')\n",
    "    #model = svm.SVC(kernel='linear')\n",
    "    #model = svm.SVC(kernel='linear',decision_function_shape='ovo')\n",
    "    #model = svm.SVC(kernel='rbf',decision_function_shape='ovo')\n",
    "    #model = svm.SVC(kernel='poly')\n",
    "    #model = svm.SVC(kernel='poly',decision_function_shape='ovo')\n",
    "    #model = svm.SVC(kernel='sigmoid')\n",
    "    #model = svm.SVC(kernel='sigmoid',decision_function_shape='ovo')\n",
    "    \n",
    "    model.fit(Model_Dict[i]['X Train'], Model_Dict[i]['Y Train'])\n",
    "    y_pred = model.predict(Model_Dict[i]['X Test'])\n",
    "    \n",
    "    Model_Dict[i]['Y Prediction'] = y_pred\n",
    "    \n",
    "    \n",
    "    #print(\"SVM Model Info for Ticker: \"+i)\n",
    "    #print(\"Accuracy:\",metrics.accuracy_score(Model_Dict[i]['Y Test'], Model_Dict[i]['Y Prediction']))\n",
    "    Model_Dict[i]['Accuracy'] = metrics.accuracy_score(Model_Dict[i]['Y Test'], Model_Dict[i]['Y Prediction'])\n",
    "    #print(\"Precision:\",metrics.precision_score(Model_Dict[i]['Y Test'], Model_Dict[i]['Y Prediction'],pos_label=str(1),average=\"macro\"))\n",
    "    Model_Dict[i]['Precision'] = metrics.precision_score(Model_Dict[i]['Y Test'], Model_Dict[i]['Y Prediction'],pos_label=str(1),average=\"macro\")\n",
    "    #print(\"Recall:\",metrics.recall_score(Model_Dict[i]['Y Test'], Model_Dict[i]['Y Prediction'],pos_label=str(1),average=\"macro\"))\n",
    "    Model_Dict[i]['Recall'] = metrics.recall_score(Model_Dict[i]['Y Test'], Model_Dict[i]['Y Prediction'],pos_label=str(1),average=\"macro\")"
   ]
  },
  {
   "cell_type": "code",
   "execution_count": null,
   "metadata": {},
   "outputs": [],
   "source": []
  },
  {
   "cell_type": "code",
   "execution_count": null,
   "metadata": {},
   "outputs": [],
   "source": []
  },
  {
   "cell_type": "code",
   "execution_count": null,
   "metadata": {},
   "outputs": [],
   "source": []
  },
  {
   "cell_type": "code",
   "execution_count": null,
   "metadata": {},
   "outputs": [],
   "source": []
  },
  {
   "cell_type": "markdown",
   "metadata": {},
   "source": [
    "## Define a function to generate X, y from raw data (Use Karan's data API)"
   ]
  },
  {
   "cell_type": "code",
   "execution_count": 7,
   "metadata": {},
   "outputs": [],
   "source": [
    "def gen_X_y(symbol: str, timeframe: str):\n",
    "    # Create a series for BTC-USDT pair on 1h candles\n",
    "    # btc = series.DataSeries('BTCUSDT', '1h')\n",
    "    btc = series.DataSeries(symbol, timeframe)\n",
    "    data = btc.getData()\n",
    "    \n",
    "    # print(data.keys())\n",
    "\n",
    "    price_close = data['close']\n",
    "    # print(len(price_close))\n",
    "    \n",
    "    prev5 = np.concatenate([\n",
    "            # pivot timeframe\n",
    "            price_close[np.newaxis, 5:],\n",
    "            # previous 5 timeframes\n",
    "            price_close[np.newaxis, 4:-1], # 1 frame ago\n",
    "            price_close[np.newaxis, 3:-2], # 2 frame ago\n",
    "            price_close[np.newaxis, 2:-3], # 3 frame ago\n",
    "            price_close[np.newaxis, 1:-4], # 4 frame ago\n",
    "            price_close[np.newaxis, :-5],  # 5 frame ago\n",
    "        ],\n",
    "        axis = 0\n",
    "    )\n",
    "\n",
    "    # Generate truth values (y)\n",
    "    y = prev5[0, :] > np.amin(prev5[1:, :], axis = 0)\n",
    "    print('timeframe:', timeframe)\n",
    "    print('number of times where trend is up: ', y[y == True].shape)\n",
    "    print('number of times where trend is down: ', y[y == False].shape)\n",
    "    \n",
    "    btc.addIndicator('RSI', data['close'], 30) # 30-timeframe RSI\n",
    "\n",
    "    btc.addIndicator('EMA', data['close'], 30) # 30-timeframe EMA\n",
    "    # btc1h.addIndicator('EMA', btc1h.getData()['close'], 50) # 50-timeframe EMA\n",
    "\n",
    "    ## MFI: https://www.investopedia.com/terms/m/mfi.asp\n",
    "    btc.addIndicator('MFI', data['high'], data['low'], data['close'], data['volume'], 10) # 10-timeframe MFI\n",
    "\n",
    "    ## MACD: https://www.investopedia.com/terms/m/macd.asp\n",
    "    btc.addIndicator('MACD', data['close'], 12, 26) # fast = 12, slow = 26\n",
    "\n",
    "    indicators = btc.getIndicators()\n",
    "    print(indicators)\n",
    "    #for indicator in indicators.keys():\n",
    "        #print(indicator)\n",
    "        \n",
    "    time_cut = 50\n",
    "\n",
    "    # Each technical indicator consists one column of X.\n",
    "    X = np.concatenate(\n",
    "        (\n",
    "            indicators['RSI'][np.newaxis, time_cut:].T,\n",
    "            indicators['EMA'][np.newaxis, time_cut:].T,\n",
    "            indicators['MFI'][np.newaxis, time_cut:].T\n",
    "        ),\n",
    "        axis = 1\n",
    "    )\n",
    "    # print('shape of X:', X.shape)\n",
    "    # print('shape of y:', y.shape)\n",
    "\n",
    "    y_truncate = y[(time_cut - 5):]\n",
    "    \n",
    "    return (X, y_truncate)"
   ]
  },
  {
   "cell_type": "markdown",
   "metadata": {},
   "source": [
    "## Generate X, y from 1h-scale data"
   ]
  },
  {
   "cell_type": "code",
   "execution_count": 64,
   "metadata": {},
   "outputs": [
    {
     "name": "stdout",
     "output_type": "stream",
     "text": [
      "timeframe: 1h\n",
      "number of times where trend is up:  (24655,)\n",
      "number of times where trend is down:  (6013,)\n",
      "X, y generated from 1h-scale data\n",
      "train set size: (22967,)\n",
      "test set size: (7656,)\n"
     ]
    }
   ],
   "source": [
    "X_h, y_h = gen_X_y('BTCUSDT', '1h')\n",
    "\n",
    "\n",
    "# Split train/test sets\n",
    "X_train_h, X_test_h, y_train_h, y_test_h = train_test_split(X_h, y_h)\n",
    "print('X, y generated from 1h-scale data')\n",
    "print('train set size:', y_train_h.shape)\n",
    "print('test set size:', y_test_h.shape)\n",
    "\n"
   ]
  },
  {
   "cell_type": "code",
   "execution_count": null,
   "metadata": {},
   "outputs": [],
   "source": []
  },
  {
   "cell_type": "markdown",
   "metadata": {},
   "source": [
    "## Generate X, y from 1d-scale data"
   ]
  },
  {
   "cell_type": "code",
   "execution_count": 65,
   "metadata": {},
   "outputs": [
    {
     "name": "stdout",
     "output_type": "stream",
     "text": [
      "timeframe: 1d\n",
      "number of times where trend is up:  (1039,)\n",
      "number of times where trend is down:  (239,)\n",
      "X, y generated from 1d-scale data\n",
      "train set size: (924,)\n",
      "test set size: (309,)\n"
     ]
    }
   ],
   "source": [
    "X_d, y_d = gen_X_y('BTCUSDT', '1d')\n",
    "\n",
    "# Split train/test sets\n",
    "X_train_d, X_test_d, y_train_d, y_test_d = train_test_split(X_d, y_d)\n",
    "print('X, y generated from 1d-scale data')\n",
    "print('train set size:', y_train_d.shape)\n",
    "print('test set size:', y_test_d.shape)\n",
    "\n",
    "\n",
    "\n"
   ]
  },
  {
   "cell_type": "markdown",
   "metadata": {},
   "source": [
    "## Ridge Classifier"
   ]
  },
  {
   "cell_type": "markdown",
   "metadata": {},
   "source": [
    "## Logistic Regression"
   ]
  },
  {
   "cell_type": "markdown",
   "metadata": {},
   "source": [
    "According to the above results from `Ridge Classifier` & `Logistic Regression`, these **linear** models are working quite well on the price data.\n",
    "\n",
    "### The problem is that our dataset itself is skewed (in terms of the Truth label ratio). 80% or above consists of `True` labels for the `BUY` signal (whether we use `1h` scale or `1d` scale price data). We need to try training the classifiers using a dataset that consists of roughly 50% of `True` labels.."
   ]
  },
  {
   "cell_type": "markdown",
   "metadata": {},
   "source": [
    "## Let's try training the linear models with data that have 50/50 rate of True/False labels."
   ]
  },
  {
   "cell_type": "code",
   "execution_count": 10,
   "metadata": {},
   "outputs": [
    {
     "name": "stdout",
     "output_type": "stream",
     "text": [
      "hour scale price data\n",
      "True count: 24621\n",
      "False count: 6002\n",
      "Train set True/False ratio: 4522 / 4481\n",
      "Test set True/False ratio: 1480 / 1521\n"
     ]
    },
    {
     "ename": "ValueError",
     "evalue": "y should be a 1d array, got an array of shape (9003, 3) instead.",
     "output_type": "error",
     "traceback": [
      "\u001b[1;31m---------------------------------------------------------------------------\u001b[0m",
      "\u001b[1;31mValueError\u001b[0m                                Traceback (most recent call last)",
      "\u001b[1;32m<ipython-input-10-ade4992849d4>\u001b[0m in \u001b[0;36m<module>\u001b[1;34m\u001b[0m\n\u001b[0;32m     22\u001b[0m \u001b[1;33m\u001b[0m\u001b[0m\n\u001b[0;32m     23\u001b[0m \u001b[0msvm\u001b[0m \u001b[1;33m=\u001b[0m \u001b[0mSVC\u001b[0m\u001b[1;33m(\u001b[0m\u001b[0mgamma\u001b[0m\u001b[1;33m=\u001b[0m\u001b[1;34m'auto'\u001b[0m\u001b[1;33m)\u001b[0m\u001b[1;33m\u001b[0m\u001b[1;33m\u001b[0m\u001b[0m\n\u001b[1;32m---> 24\u001b[1;33m \u001b[0msvm\u001b[0m\u001b[1;33m.\u001b[0m\u001b[0mfit\u001b[0m\u001b[1;33m(\u001b[0m\u001b[0mn_x_train\u001b[0m\u001b[1;33m,\u001b[0m \u001b[0mX_train_h_even\u001b[0m\u001b[1;33m)\u001b[0m\u001b[1;33m\u001b[0m\u001b[1;33m\u001b[0m\u001b[0m\n\u001b[0m\u001b[0;32m     25\u001b[0m \u001b[1;33m\u001b[0m\u001b[0m\n\u001b[0;32m     26\u001b[0m \u001b[1;33m\u001b[0m\u001b[0m\n",
      "\u001b[1;32m~\\anaconda3\\lib\\site-packages\\sklearn\\svm\\_base.py\u001b[0m in \u001b[0;36mfit\u001b[1;34m(self, X, y, sample_weight)\u001b[0m\n\u001b[0;32m    158\u001b[0m             \u001b[0mcheck_consistent_length\u001b[0m\u001b[1;33m(\u001b[0m\u001b[0mX\u001b[0m\u001b[1;33m,\u001b[0m \u001b[0my\u001b[0m\u001b[1;33m)\u001b[0m\u001b[1;33m\u001b[0m\u001b[1;33m\u001b[0m\u001b[0m\n\u001b[0;32m    159\u001b[0m         \u001b[1;32melse\u001b[0m\u001b[1;33m:\u001b[0m\u001b[1;33m\u001b[0m\u001b[1;33m\u001b[0m\u001b[0m\n\u001b[1;32m--> 160\u001b[1;33m             X, y = self._validate_data(X, y, dtype=np.float64,\n\u001b[0m\u001b[0;32m    161\u001b[0m                                        \u001b[0morder\u001b[0m\u001b[1;33m=\u001b[0m\u001b[1;34m'C'\u001b[0m\u001b[1;33m,\u001b[0m \u001b[0maccept_sparse\u001b[0m\u001b[1;33m=\u001b[0m\u001b[1;34m'csr'\u001b[0m\u001b[1;33m,\u001b[0m\u001b[1;33m\u001b[0m\u001b[1;33m\u001b[0m\u001b[0m\n\u001b[0;32m    162\u001b[0m                                        accept_large_sparse=False)\n",
      "\u001b[1;32m~\\anaconda3\\lib\\site-packages\\sklearn\\base.py\u001b[0m in \u001b[0;36m_validate_data\u001b[1;34m(self, X, y, reset, validate_separately, **check_params)\u001b[0m\n\u001b[0;32m    430\u001b[0m                 \u001b[0my\u001b[0m \u001b[1;33m=\u001b[0m \u001b[0mcheck_array\u001b[0m\u001b[1;33m(\u001b[0m\u001b[0my\u001b[0m\u001b[1;33m,\u001b[0m \u001b[1;33m**\u001b[0m\u001b[0mcheck_y_params\u001b[0m\u001b[1;33m)\u001b[0m\u001b[1;33m\u001b[0m\u001b[1;33m\u001b[0m\u001b[0m\n\u001b[0;32m    431\u001b[0m             \u001b[1;32melse\u001b[0m\u001b[1;33m:\u001b[0m\u001b[1;33m\u001b[0m\u001b[1;33m\u001b[0m\u001b[0m\n\u001b[1;32m--> 432\u001b[1;33m                 \u001b[0mX\u001b[0m\u001b[1;33m,\u001b[0m \u001b[0my\u001b[0m \u001b[1;33m=\u001b[0m \u001b[0mcheck_X_y\u001b[0m\u001b[1;33m(\u001b[0m\u001b[0mX\u001b[0m\u001b[1;33m,\u001b[0m \u001b[0my\u001b[0m\u001b[1;33m,\u001b[0m \u001b[1;33m**\u001b[0m\u001b[0mcheck_params\u001b[0m\u001b[1;33m)\u001b[0m\u001b[1;33m\u001b[0m\u001b[1;33m\u001b[0m\u001b[0m\n\u001b[0m\u001b[0;32m    433\u001b[0m             \u001b[0mout\u001b[0m \u001b[1;33m=\u001b[0m \u001b[0mX\u001b[0m\u001b[1;33m,\u001b[0m \u001b[0my\u001b[0m\u001b[1;33m\u001b[0m\u001b[1;33m\u001b[0m\u001b[0m\n\u001b[0;32m    434\u001b[0m \u001b[1;33m\u001b[0m\u001b[0m\n",
      "\u001b[1;32m~\\anaconda3\\lib\\site-packages\\sklearn\\utils\\validation.py\u001b[0m in \u001b[0;36minner_f\u001b[1;34m(*args, **kwargs)\u001b[0m\n\u001b[0;32m     71\u001b[0m                           FutureWarning)\n\u001b[0;32m     72\u001b[0m         \u001b[0mkwargs\u001b[0m\u001b[1;33m.\u001b[0m\u001b[0mupdate\u001b[0m\u001b[1;33m(\u001b[0m\u001b[1;33m{\u001b[0m\u001b[0mk\u001b[0m\u001b[1;33m:\u001b[0m \u001b[0marg\u001b[0m \u001b[1;32mfor\u001b[0m \u001b[0mk\u001b[0m\u001b[1;33m,\u001b[0m \u001b[0marg\u001b[0m \u001b[1;32min\u001b[0m \u001b[0mzip\u001b[0m\u001b[1;33m(\u001b[0m\u001b[0msig\u001b[0m\u001b[1;33m.\u001b[0m\u001b[0mparameters\u001b[0m\u001b[1;33m,\u001b[0m \u001b[0margs\u001b[0m\u001b[1;33m)\u001b[0m\u001b[1;33m}\u001b[0m\u001b[1;33m)\u001b[0m\u001b[1;33m\u001b[0m\u001b[1;33m\u001b[0m\u001b[0m\n\u001b[1;32m---> 73\u001b[1;33m         \u001b[1;32mreturn\u001b[0m \u001b[0mf\u001b[0m\u001b[1;33m(\u001b[0m\u001b[1;33m**\u001b[0m\u001b[0mkwargs\u001b[0m\u001b[1;33m)\u001b[0m\u001b[1;33m\u001b[0m\u001b[1;33m\u001b[0m\u001b[0m\n\u001b[0m\u001b[0;32m     74\u001b[0m     \u001b[1;32mreturn\u001b[0m \u001b[0minner_f\u001b[0m\u001b[1;33m\u001b[0m\u001b[1;33m\u001b[0m\u001b[0m\n\u001b[0;32m     75\u001b[0m \u001b[1;33m\u001b[0m\u001b[0m\n",
      "\u001b[1;32m~\\anaconda3\\lib\\site-packages\\sklearn\\utils\\validation.py\u001b[0m in \u001b[0;36mcheck_X_y\u001b[1;34m(X, y, accept_sparse, accept_large_sparse, dtype, order, copy, force_all_finite, ensure_2d, allow_nd, multi_output, ensure_min_samples, ensure_min_features, y_numeric, estimator)\u001b[0m\n\u001b[0;32m    806\u001b[0m                         ensure_2d=False, dtype=None)\n\u001b[0;32m    807\u001b[0m     \u001b[1;32melse\u001b[0m\u001b[1;33m:\u001b[0m\u001b[1;33m\u001b[0m\u001b[1;33m\u001b[0m\u001b[0m\n\u001b[1;32m--> 808\u001b[1;33m         \u001b[0my\u001b[0m \u001b[1;33m=\u001b[0m \u001b[0mcolumn_or_1d\u001b[0m\u001b[1;33m(\u001b[0m\u001b[0my\u001b[0m\u001b[1;33m,\u001b[0m \u001b[0mwarn\u001b[0m\u001b[1;33m=\u001b[0m\u001b[1;32mTrue\u001b[0m\u001b[1;33m)\u001b[0m\u001b[1;33m\u001b[0m\u001b[1;33m\u001b[0m\u001b[0m\n\u001b[0m\u001b[0;32m    809\u001b[0m         \u001b[0m_assert_all_finite\u001b[0m\u001b[1;33m(\u001b[0m\u001b[0my\u001b[0m\u001b[1;33m)\u001b[0m\u001b[1;33m\u001b[0m\u001b[1;33m\u001b[0m\u001b[0m\n\u001b[0;32m    810\u001b[0m     \u001b[1;32mif\u001b[0m \u001b[0my_numeric\u001b[0m \u001b[1;32mand\u001b[0m \u001b[0my\u001b[0m\u001b[1;33m.\u001b[0m\u001b[0mdtype\u001b[0m\u001b[1;33m.\u001b[0m\u001b[0mkind\u001b[0m \u001b[1;33m==\u001b[0m \u001b[1;34m'O'\u001b[0m\u001b[1;33m:\u001b[0m\u001b[1;33m\u001b[0m\u001b[1;33m\u001b[0m\u001b[0m\n",
      "\u001b[1;32m~\\anaconda3\\lib\\site-packages\\sklearn\\utils\\validation.py\u001b[0m in \u001b[0;36minner_f\u001b[1;34m(*args, **kwargs)\u001b[0m\n\u001b[0;32m     71\u001b[0m                           FutureWarning)\n\u001b[0;32m     72\u001b[0m         \u001b[0mkwargs\u001b[0m\u001b[1;33m.\u001b[0m\u001b[0mupdate\u001b[0m\u001b[1;33m(\u001b[0m\u001b[1;33m{\u001b[0m\u001b[0mk\u001b[0m\u001b[1;33m:\u001b[0m \u001b[0marg\u001b[0m \u001b[1;32mfor\u001b[0m \u001b[0mk\u001b[0m\u001b[1;33m,\u001b[0m \u001b[0marg\u001b[0m \u001b[1;32min\u001b[0m \u001b[0mzip\u001b[0m\u001b[1;33m(\u001b[0m\u001b[0msig\u001b[0m\u001b[1;33m.\u001b[0m\u001b[0mparameters\u001b[0m\u001b[1;33m,\u001b[0m \u001b[0margs\u001b[0m\u001b[1;33m)\u001b[0m\u001b[1;33m}\u001b[0m\u001b[1;33m)\u001b[0m\u001b[1;33m\u001b[0m\u001b[1;33m\u001b[0m\u001b[0m\n\u001b[1;32m---> 73\u001b[1;33m         \u001b[1;32mreturn\u001b[0m \u001b[0mf\u001b[0m\u001b[1;33m(\u001b[0m\u001b[1;33m**\u001b[0m\u001b[0mkwargs\u001b[0m\u001b[1;33m)\u001b[0m\u001b[1;33m\u001b[0m\u001b[1;33m\u001b[0m\u001b[0m\n\u001b[0m\u001b[0;32m     74\u001b[0m     \u001b[1;32mreturn\u001b[0m \u001b[0minner_f\u001b[0m\u001b[1;33m\u001b[0m\u001b[1;33m\u001b[0m\u001b[0m\n\u001b[0;32m     75\u001b[0m \u001b[1;33m\u001b[0m\u001b[0m\n",
      "\u001b[1;32m~\\anaconda3\\lib\\site-packages\\sklearn\\utils\\validation.py\u001b[0m in \u001b[0;36mcolumn_or_1d\u001b[1;34m(y, warn)\u001b[0m\n\u001b[0;32m    844\u001b[0m         \u001b[1;32mreturn\u001b[0m \u001b[0mnp\u001b[0m\u001b[1;33m.\u001b[0m\u001b[0mravel\u001b[0m\u001b[1;33m(\u001b[0m\u001b[0my\u001b[0m\u001b[1;33m)\u001b[0m\u001b[1;33m\u001b[0m\u001b[1;33m\u001b[0m\u001b[0m\n\u001b[0;32m    845\u001b[0m \u001b[1;33m\u001b[0m\u001b[0m\n\u001b[1;32m--> 846\u001b[1;33m     raise ValueError(\n\u001b[0m\u001b[0;32m    847\u001b[0m         \u001b[1;34m\"y should be a 1d array, \"\u001b[0m\u001b[1;33m\u001b[0m\u001b[1;33m\u001b[0m\u001b[0m\n\u001b[0;32m    848\u001b[0m         \"got an array of shape {} instead.\".format(shape))\n",
      "\u001b[1;31mValueError\u001b[0m: y should be a 1d array, got an array of shape (9003, 3) instead."
     ]
    }
   ],
   "source": [
    "print('hour scale price data')\n",
    "print('True count:', len(y_h[y_h == True]))\n",
    "print('False count:', len(y_h[y_h == False]))\n",
    "\n",
    "indices = np.where(y_h == True)[0]\n",
    "if len(y_h[y_h == True]) > len(y_h[y_h == False]):\n",
    "    indices = np.random.choice(indices, size = len(y_h[y_h == False]), replace = False)\n",
    "else:\n",
    "    raise NotImplementedError\n",
    "    \n",
    "# Combine the `True` indices with `False` indices\n",
    "indices = np.concatenate((indices, np.where(y_h == False)[0]))\n",
    "seed =1234\n",
    "X_train_h_even, X_test_h_even, y_train_h_even, y_test_h_even = train_test_split(X_h[indices], y_h[indices])\n",
    "print('Train set True/False ratio:', len(np.where(y_train_h_even == True)[0]), '/', len(np.where(y_train_h_even == False)[0]))\n",
    "print('Test set True/False ratio:', len(np.where(y_test_h_even == True)[0]), '/', len(np.where(y_test_h_even == False)[0]))\n",
    "\n",
    "# Adding new code \n",
    "n_x_train = normalize(X_train_h_even)\n",
    "n_x_test = normalize(X_test_h_even)\n",
    "\n",
    "\n",
    "svm = SVC(gamma='auto')\n",
    "svm.fit(n_x_train, X_train_h_even)\n",
    "\n",
    "\n",
    "params_svc = {'C': [0.01,0.1, 1.0], 'kernel': ['linear', 'rbf']}\n",
    "tuned_svc = SVC(gamma='auto')\n",
    "svm2 = GridSearchCV(tuned_svc, params_svc, cv = 10)\n",
    "svm2.fit(n_x_train, y_train_h_even)\n",
    "print(\"best score: %f\" % svm2.best_score_)\n",
    "\n",
    "\n",
    "res_train_svm2 = svm2.predict(n_x_train)\n",
    "score_train_svm2 = accuracy_score(res_train_svm2, y_train_h_even)\n",
    "\n",
    "res_test_svm2 = svm2.predict(n_x_test)\n",
    "score_test_svm2 = accuracy_score(res_test_svm2, y_test_h_even)\n",
    "\n",
    "\n",
    "\n",
    "# original code \n",
    "\n",
    "# svr = svm.SVC(kernel='rbf', C=1e-5)\n",
    "# #, gamma=0.1\n",
    "# # Train the model \n",
    "# svr_clf_h_even = svr.fit(X_train_h_even, y_train_h_even)\n",
    "# y_pred_test = svr_clf_h_even.predict(X_test_h_even)\n",
    "# y_pred_train = svr_clf_h_even.predict(X_train_h_even)\n",
    "\n",
    "# print('Accuracy of SVM Classifier (on 1h-scale data, 50/50 dataset)')\n",
    "# print('training set accuracy:', accuracy_score(y_train_h_even, y_pred_train))\n",
    "# print('test set accuracy:',    accuracy_score(y_test_h_even, y_pred_test) )\n",
    "\n",
    "\n",
    "\n"
   ]
  },
  {
   "cell_type": "code",
   "execution_count": 55,
   "metadata": {},
   "outputs": [
    {
     "name": "stdout",
     "output_type": "stream",
     "text": [
      "day scale price data\n",
      "True count: 1000\n",
      "False count: 233\n",
      "Total dataset size (train + test): 466\n",
      "Train set True/False ratio: 177 / 172\n",
      "Test set True/False ratio: 56 / 61\n",
      "Accuracy of SVM Classifier (on 1d-scale data, 50/50 dataset)\n",
      "training set accuracy: 0.6762177650429799\n",
      "test set accuracy: 0.6837606837606838\n"
     ]
    }
   ],
   "source": [
    "print('day scale price data')\n",
    "print('True count:', len(y_d[y_d == True]))\n",
    "print('False count:', len(y_d[y_d == False]))\n",
    "\n",
    "indices = np.where(y_d == True)[0]\n",
    "if len(y_d[y_d == True]) > len(y_d[y_d == False]):\n",
    "    indices = np.random.choice(indices, size = len(y_d[y_d == False]), replace = False)\n",
    "else:\n",
    "    raise NotImplementedError\n",
    "    \n",
    "# Combine the `True` indices with `False` indices\n",
    "indices = np.concatenate((indices, np.where(y_d == False)[0]))\n",
    "seed =1234\n",
    "X_train_d_even, X_test_d_even, y_train_d_even, y_test_d_even = train_test_split(X_d[indices], y_d[indices])\n",
    "print('Total dataset size (train + test):', indices.shape[0])\n",
    "print('Train set True/False ratio:', len(np.where(y_train_d_even == True)[0]), '/', len(np.where(y_train_d_even == False)[0]))\n",
    "print('Test set True/False ratio:', len(np.where(y_test_d_even == True)[0]), '/', len(np.where(y_test_d_even == False)[0]))\n",
    "\n",
    "# ridge_clf_d_even = RidgeClassifier().fit(X_train_d_even, y_train_d_even)\n",
    "\n",
    "# print('Accuracy of Ridge Classifier (on 1d-scale data, 50/50 dataset)')\n",
    "# print('training set accuracy:', ridge_clf_d_even.score(X_train_d_even, y_train_d_even))\n",
    "# print('test set accuracy:', ridge_clf_d_even.score(X_test_d_even, y_test_d_even))\n",
    "\n",
    "\n",
    "svr = svm.SVC(kernel='rbf', C=1e5)\n",
    "#, gamma=0.1\n",
    "# Train the model \n",
    "svr_clf_d_even = svr.fit(X_train_d_even, y_train_d_even)\n",
    "y_pred_test = svr_clf_d_even.predict(X_test_d_even)\n",
    "y_pred_train = svr_clf_d_even.predict(X_train_d_even)\n",
    "\n",
    "print('Accuracy of SVM Classifier (on 1d-scale data, 50/50 dataset)')\n",
    "print('training set accuracy:', accuracy_score(y_train_d_even, y_pred_train))\n",
    "print('test set accuracy:',    accuracy_score(y_test_d_even, y_pred_test) )\n"
   ]
  },
  {
   "cell_type": "code",
   "execution_count": 36,
   "metadata": {},
   "outputs": [
    {
     "name": "stdout",
     "output_type": "stream",
     "text": [
      "day scale price data\n",
      "True count: 1000\n",
      "False count: 233\n",
      "Total dataset size (train + test): 466\n",
      "Train set True/False ratio: 178 / 171\n",
      "Test set True/False ratio: 55 / 62\n",
      "Accuracy of Ridge Classifier (on 1d-scale data, 50/50 dataset)\n",
      "training set accuracy: 0.6962750716332379\n",
      "test set accuracy: 0.717948717948718\n"
     ]
    }
   ],
   "source": [
    "print('day scale price data')\n",
    "print('True count:', len(y_d[y_d == True]))\n",
    "print('False count:', len(y_d[y_d == False]))\n",
    "\n",
    "indices = np.where(y_d == True)[0]\n",
    "if len(y_d[y_d == True]) > len(y_d[y_d == False]):\n",
    "    indices = np.random.choice(indices, size = len(y_d[y_d == False]), replace = False)\n",
    "else:\n",
    "    raise NotImplementedError\n",
    "    \n",
    "# Combine the `True` indices with `False` indices\n",
    "indices = np.concatenate((indices, np.where(y_d == False)[0]))\n",
    "\n",
    "X_train_d_even, X_test_d_even, y_train_d_even, y_test_d_even = train_test_split(X_d[indices], y_d[indices])\n",
    "print('Total dataset size (train + test):', indices.shape[0])\n",
    "print('Train set True/False ratio:', len(np.where(y_train_d_even == True)[0]), '/', len(np.where(y_train_d_even == False)[0]))\n",
    "print('Test set True/False ratio:', len(np.where(y_test_d_even == True)[0]), '/', len(np.where(y_test_d_even == False)[0]))\n",
    "\n",
    "ridge_clf_d_even = RidgeClassifier().fit(X_train_d_even, y_train_d_even)\n",
    "\n",
    "print('Accuracy of Ridge Classifier (on 1d-scale data, 50/50 dataset)')\n",
    "print('training set accuracy:', ridge_clf_d_even.score(X_train_d_even, y_train_d_even))\n",
    "print('test set accuracy:', ridge_clf_d_even.score(X_test_d_even, y_test_d_even))"
   ]
  },
  {
   "cell_type": "code",
   "execution_count": null,
   "metadata": {},
   "outputs": [],
   "source": []
  },
  {
   "cell_type": "code",
   "execution_count": 15,
   "metadata": {},
   "outputs": [
    {
     "name": "stdout",
     "output_type": "stream",
     "text": [
      "Accuracy of Logistic Regression (on 1h-scale data, 50/50 dataset)\n",
      "training set accuracy: 0.6593357769632345\n",
      "test set accuracy: 0.6554481839386871\n",
      "\n",
      "Accuracy of Logistic Regression (on 1d-scale data, 50/50 dataset)\n",
      "training set accuracy: 0.6361031518624641\n",
      "test set accuracy: 0.5042735042735043\n"
     ]
    }
   ],
   "source": [
    "logi_clf_h_even = LogisticRegression(random_state=0).fit(X_train_h_even, y_train_h_even)\n",
    "print('Accuracy of Logistic Regression (on 1h-scale data, 50/50 dataset)')\n",
    "print('training set accuracy:', logi_clf_h_even.score(X_train_h_even, y_train_h_even))\n",
    "print('test set accuracy:', logi_clf_h_even.score(X_test_h_even, y_test_h_even), end = '\\n\\n')\n",
    "\n",
    "logi_clf_d_even = LogisticRegression(random_state=0).fit(X_train_d_even, y_train_d_even)\n",
    "print('Accuracy of Logistic Regression (on 1d-scale data, 50/50 dataset)')\n",
    "print('training set accuracy:', logi_clf_d_even.score(X_train_d_even, y_train_d_even))\n",
    "print('test set accuracy:', logi_clf_d_even.score(X_test_d_even, y_test_d_even))\n",
    "\n",
    "\n"
   ]
  },
  {
   "cell_type": "code",
   "execution_count": null,
   "metadata": {},
   "outputs": [],
   "source": []
  },
  {
   "cell_type": "code",
   "execution_count": 11,
   "metadata": {},
   "outputs": [
    {
     "name": "stdout",
     "output_type": "stream",
     "text": [
      "Accuracy of Ridge Classifier (on 1h-scale data)\n",
      "training set accuracy: 0.8060695780903034\n",
      "test set accuracy: 0.8044670846394985\n"
     ]
    },
    {
     "data": {
      "image/png": "[encoded data removed]",
      "text/plain": [
       "<Figure size 1440x720 with 1 Axes>"
      ]
     },
     "metadata": {
      "needs_background": "light"
     },
     "output_type": "display_data"
    }
   ],
   "source": [
    "ridge_clf_h = RidgeClassifier().fit(X_train_h, y_train_h)\n",
    "\n",
    "print('Accuracy of Ridge Classifier (on 1h-scale data)')\n",
    "print('training set accuracy:', ridge_clf_h.score(X_train_h, y_train_h))\n",
    "print('test set accuracy:', ridge_clf_h.score(X_test_h, y_test_h))\n",
    "# print('test set accuracy:', accuracy_score(y_test_h, ridge_clf.predict(X_test_h))) # Exact same result as above\n",
    "plt.figure(figsize=(20,10))\n",
    "plt.plot(np.arange(X_test_h.shape[0]), ridge_clf_h.predict(X_test_h), 'ro', label = \"classification\")\n",
    "plt.plot(np.arange(X_test_h.shape[0]), y_test_h, 'bo', label = \"truth labels\")\n",
    "plt.title('Ridge: 1h-scale trend prediction')\n",
    "plt.legend()\n",
    "plt.show()"
   ]
  },
  {
   "cell_type": "code",
   "execution_count": 6,
   "metadata": {},
   "outputs": [
    {
     "name": "stdout",
     "output_type": "stream",
     "text": [
      "Accuracy of Ridge Classifier (on 1d-scale data)\n",
      "training set accuracy: 0.8062770562770563\n",
      "test set accuracy: 0.8284789644012945\n"
     ]
    },
    {
     "data": {
      "image/png": "[encoded data removed]",
      "text/plain": [
       "<Figure size 1440x720 with 1 Axes>"
      ]
     },
     "metadata": {
      "needs_background": "light"
     },
     "output_type": "display_data"
    }
   ],
   "source": [
    "ridge_clf_d = RidgeClassifier().fit(X_train_d, y_train_d)\n",
    "\n",
    "print('Accuracy of Ridge Classifier (on 1d-scale data)')\n",
    "print('training set accuracy:', ridge_clf_d.score(X_train_d, y_train_d))\n",
    "print('test set accuracy:', ridge_clf_d.score(X_test_d, y_test_d))\n",
    "\n",
    "plt.figure(figsize=(20,10))\n",
    "plt.plot(np.arange(X_test_d.shape[0]), ridge_clf_d.predict(X_test_d), 'ro', label = \"classification\")\n",
    "plt.plot(np.arange(X_test_d.shape[0]), y_test_d, 'bo', label = \"truth labels\")\n",
    "plt.title('Ridge: 1d-scale trend prediction')\n",
    "plt.legend()\n",
    "plt.show()"
   ]
  },
  {
   "cell_type": "code",
   "execution_count": 12,
   "metadata": {},
   "outputs": [
    {
     "name": "stdout",
     "output_type": "stream",
     "text": [
      "Accuracy of Logistic Regression (on 1h-scale data)\n",
      "training set accuracy: 0.8041973265990334\n",
      "test set accuracy: 0.803944618599791\n"
     ]
    },
    {
     "data": {
      "image/png": "[encoded data removed]",
      "text/plain": [
       "<Figure size 1440x720 with 1 Axes>"
      ]
     },
     "metadata": {
      "needs_background": "light"
     },
     "output_type": "display_data"
    }
   ],
   "source": [
    "logi_clf_h = LogisticRegression(random_state=0).fit(X_train_h, y_train_h)\n",
    "\n",
    "print('Accuracy of Logistic Regression (on 1h-scale data)')\n",
    "print('training set accuracy:', logi_clf_h.score(X_train_h, y_train_h))\n",
    "print('test set accuracy:', logi_clf_h.score(X_test_h, y_test_h))\n",
    "\n",
    "plt.figure(figsize=(20,10))\n",
    "plt.plot(np.arange(X_test_h.shape[0]), logi_clf_h.predict(X_test_h), 'ro', label = \"classification\")\n",
    "plt.plot(np.arange(X_test_h.shape[0]), y_test_h, 'bo', label = \"truth labels\")\n",
    "plt.title('Logistic Regression: 1h-scale trend prediction')\n",
    "plt.legend()\n",
    "plt.show()"
   ]
  },
  {
   "cell_type": "code",
   "execution_count": 14,
   "metadata": {},
   "outputs": [
    {
     "name": "stdout",
     "output_type": "stream",
     "text": [
      "Accuracy of Logistic Regression (on 1d-scale data)\n",
      "training set accuracy: 0.8095238095238095\n",
      "test set accuracy: 0.8155339805825242\n"
     ]
    },
    {
     "data": {
      "text/plain": [
       "array([[4.05418232e+01, 7.72716924e+03, 3.66683988e+01],\n",
       "       [5.27685492e+01, 3.90751884e+03, 4.36517369e+01],\n",
       "       [4.02339274e+01, 8.23678008e+03, 3.15283613e+01],\n",
       "       [5.47651377e+01, 1.13530475e+04, 3.20033759e+01],\n",
       "       [5.10041338e+01, 7.41376330e+03, 3.71573351e+01],\n",
       "       [7.47499967e+01, 4.24760281e+03, 8.63191828e+01],\n",
       "       [8.38220765e+01, 2.71569944e+04, 8.17309293e+01],\n",
       "       [8.25290274e+01, 5.79525478e+03, 9.07906169e+01],\n",
       "       [6.16784629e+01, 3.37939980e+04, 7.58661246e+01],\n",
       "       [6.55242436e+01, 6.94287926e+03, 7.25154362e+01],\n",
       "       [5.61204666e+01, 1.40102249e+04, 6.16144055e+01],\n",
       "       [6.14555023e+01, 8.38969073e+03, 6.56593306e+01],\n",
       "       [6.96644858e+01, 5.30040130e+03, 7.46428878e+01],\n",
       "       [4.91104723e+01, 6.49957489e+03, 6.35174406e+01],\n",
       "       [3.12742378e+01, 5.21893332e+03, 2.20139056e+01],\n",
       "       [4.63910703e+01, 1.11104115e+04, 4.68488648e+01],\n",
       "       [4.64586369e+01, 6.68705015e+03, 5.50077548e+01],\n",
       "       [4.72607874e+01, 8.85553047e+03, 2.52716490e+01],\n",
       "       [4.87349989e+01, 1.07273350e+04, 4.28701881e+01],\n",
       "       [7.43606499e+01, 2.21229476e+04, 7.06882242e+01],\n",
       "       [5.20344665e+01, 7.41341732e+03, 5.01734324e+01],\n",
       "       [4.52226558e+01, 6.53352529e+03, 3.52411074e+01],\n",
       "       [6.60399215e+01, 9.77601518e+03, 6.57480722e+01],\n",
       "       [4.74528662e+01, 9.20580169e+03, 1.02602544e+01],\n",
       "       [5.78409337e+01, 5.14592489e+03, 4.00572117e+01],\n",
       "       [5.14568539e+01, 6.20549171e+03, 3.35234140e+01],\n",
       "       [4.99853735e+01, 6.90392542e+03, 8.40829110e+01],\n",
       "       [5.62837425e+01, 9.33555430e+03, 4.06300886e+01],\n",
       "       [5.00206878e+01, 9.24804229e+03, 2.24980352e+01],\n",
       "       [4.82347115e+01, 9.94881386e+03, 7.98373370e+01],\n",
       "       [5.13667610e+01, 6.77926040e+03, 7.45870772e+01],\n",
       "       [5.57519101e+01, 1.39185057e+04, 2.46006071e+01],\n",
       "       [4.09216011e+01, 6.73169527e+03, 3.11971961e+01],\n",
       "       [3.64720418e+01, 8.33936935e+03, 3.51577661e+01],\n",
       "       [6.41421922e+01, 5.02469156e+03, 5.62333493e+01],\n",
       "       [5.53472122e+01, 9.24722909e+03, 6.06304965e+01],\n",
       "       [4.42795937e+01, 7.11720055e+03, 7.22878193e+01],\n",
       "       [5.69692801e+01, 1.41328015e+04, 6.34144467e+01],\n",
       "       [4.83882938e+01, 1.26065184e+04, 4.94888648e+01],\n",
       "       [5.11837574e+01, 1.02138251e+04, 3.72220241e+01],\n",
       "       [4.18656906e+01, 6.96996385e+03, 6.32637291e+01],\n",
       "       [6.23939197e+01, 9.08435350e+03, 6.85726617e+01],\n",
       "       [7.23346460e+01, 7.24631736e+03, 7.04081943e+01],\n",
       "       [5.42497896e+01, 9.26704746e+03, 4.76271824e+01],\n",
       "       [4.41410325e+01, 7.95433834e+03, 5.56772549e+01],\n",
       "       [4.18957635e+01, 7.27174252e+03, 2.80239514e+01],\n",
       "       [6.25897881e+01, 4.75826567e+03, 6.85485686e+01],\n",
       "       [5.28489055e+01, 8.90598526e+03, 5.85925348e+01],\n",
       "       [7.36127582e+01, 1.62243983e+04, 8.21449845e+01],\n",
       "       [5.31503277e+01, 8.88192425e+03, 2.80861865e+01],\n",
       "       [5.51930224e+01, 9.50916240e+03, 3.93198605e+01],\n",
       "       [4.93940056e+01, 6.57488671e+03, 5.53785127e+01],\n",
       "       [6.58469207e+01, 3.00665787e+04, 5.40499784e+01],\n",
       "       [6.62592140e+01, 5.10452661e+03, 5.58113857e+01],\n",
       "       [4.79513017e+01, 6.49822765e+03, 5.35458121e+01],\n",
       "       [4.75904128e+01, 6.55952630e+03, 3.87770606e+01],\n",
       "       [3.62179427e+01, 9.55732386e+03, 2.36887252e+01],\n",
       "       [7.62790222e+01, 4.30712973e+03, 8.69887790e+01],\n",
       "       [5.73819464e+01, 1.08737389e+04, 7.95247409e+01],\n",
       "       [5.01774046e+01, 1.03196284e+04, 2.78287169e+01],\n",
       "       [6.21731448e+01, 5.03846243e+03, 4.93081566e+01],\n",
       "       [6.83949685e+01, 2.04030435e+04, 7.80767646e+01],\n",
       "       [4.20472815e+01, 7.17532305e+03, 4.78797590e+01],\n",
       "       [4.32622077e+01, 9.49775323e+03, 2.81756739e+01],\n",
       "       [4.77709397e+01, 3.57188825e+03, 6.37054766e+01],\n",
       "       [5.55716559e+01, 9.52843684e+03, 2.84445213e+01],\n",
       "       [5.76179911e+01, 3.94588574e+03, 5.51246478e+01],\n",
       "       [5.29695305e+01, 8.52879993e+03, 5.22710921e+01],\n",
       "       [5.17765317e+01, 3.80238895e+03, 4.10182998e+01],\n",
       "       [7.31715178e+01, 1.92152878e+04, 8.64736088e+01],\n",
       "       [4.57717765e+01, 1.04122020e+04, 3.05317717e+01],\n",
       "       [4.28349791e+01, 1.02840163e+04, 3.73654791e+01],\n",
       "       [2.68828033e+01, 4.64286182e+03, 4.28121628e+01],\n",
       "       [4.74165236e+01, 3.56442813e+03, 6.43655253e+01],\n",
       "       [5.69981900e+01, 1.14093388e+04, 6.44216083e+01],\n",
       "       [6.39467209e+01, 7.90072203e+03, 7.39357528e+01],\n",
       "       [7.71870343e+01, 2.33797262e+04, 8.00848518e+01],\n",
       "       [7.31132341e+01, 4.02560107e+03, 7.71428281e+01],\n",
       "       [6.26266503e+01, 1.04689340e+04, 3.40352729e+01],\n",
       "       [7.00945641e+01, 6.63334446e+03, 6.08896237e+01],\n",
       "       [5.06228073e+01, 1.07361402e+04, 5.25996087e+01],\n",
       "       [6.23266668e+01, 8.32680527e+03, 5.08760957e+01],\n",
       "       [4.63381168e+01, 6.66403436e+03, 7.03530183e+01],\n",
       "       [4.23905513e+01, 8.33613733e+03, 3.20300454e+01],\n",
       "       [8.18872489e+01, 2.63104230e+04, 7.99829022e+01],\n",
       "       [5.63297234e+01, 1.13642645e+04, 4.23195124e+01],\n",
       "       [6.15458746e+01, 1.79330094e+04, 3.34585733e+01],\n",
       "       [5.75672790e+01, 9.45083690e+03, 4.44610375e+01],\n",
       "       [4.14199034e+01, 1.18383636e+04, 3.55058943e+01],\n",
       "       [4.65144612e+01, 9.40394583e+03, 1.48158538e+01],\n",
       "       [5.30794201e+01, 3.79761509e+03, 5.20177789e+01],\n",
       "       [6.02080554e+01, 7.72111559e+03, 9.05419195e+01],\n",
       "       [4.55379352e+01, 1.00994684e+04, 3.98778065e+01],\n",
       "       [6.03576933e+01, 1.78473555e+04, 3.47378845e+01],\n",
       "       [4.68468923e+01, 1.29662157e+04, 3.85751104e+01],\n",
       "       [7.08260252e+01, 5.93962876e+03, 8.54323120e+01],\n",
       "       [4.55599963e+01, 7.91539711e+03, 6.07445364e+01],\n",
       "       [4.84910979e+01, 8.87991786e+03, 3.80336717e+01],\n",
       "       [4.25580995e+01, 3.70667782e+03, 5.26533448e+01],\n",
       "       [6.27458850e+01, 1.72751563e+04, 5.13948003e+01],\n",
       "       [5.52318513e+01, 9.28873923e+03, 5.96619245e+01],\n",
       "       [4.52840742e+01, 6.77147564e+03, 5.09743958e+01],\n",
       "       [4.05948897e+01, 7.95393928e+03, 4.19392374e+01],\n",
       "       [4.66256183e+01, 6.81991711e+03, 5.49609295e+01],\n",
       "       [6.89747692e+01, 9.86142694e+03, 8.52789049e+01],\n",
       "       [2.95515298e+01, 4.94866859e+03, 3.73763262e+01],\n",
       "       [5.89117358e+01, 7.18394066e+03, 7.37323840e+01],\n",
       "       [6.11521918e+01, 1.12563796e+04, 5.43328238e+01],\n",
       "       [4.27018080e+01, 3.85648860e+03, 4.98889585e+01],\n",
       "       [5.70018426e+01, 1.08423354e+04, 4.25530016e+01],\n",
       "       [4.60315222e+01, 8.80884985e+03, 1.63506858e+01],\n",
       "       [6.05775394e+01, 7.89902430e+03, 8.38781334e+01],\n",
       "       [5.18248786e+01, 8.92415137e+03, 4.95951685e+01],\n",
       "       [6.95419407e+01, 3.05378562e+04, 5.44682120e+01],\n",
       "       [5.60628958e+01, 7.69669973e+03, 2.45038282e+01],\n",
       "       [4.95813658e+01, 1.07675442e+04, 4.89173857e+01],\n",
       "       [4.26974504e+01, 3.87524553e+03, 4.97058910e+01],\n",
       "       [4.93982601e+01, 9.26608918e+03, 3.69189414e+01],\n",
       "       [7.05351844e+01, 1.41345548e+04, 7.61008497e+01],\n",
       "       [6.60937412e+01, 9.56852785e+03, 8.80346917e+01],\n",
       "       [3.87132289e+01, 7.04095260e+03, 4.90378401e+01],\n",
       "       [4.98756065e+01, 1.07723472e+04, 5.78314688e+01],\n",
       "       [5.18750321e+01, 1.06200643e+04, 4.11341764e+01],\n",
       "       [6.06664133e+01, 8.62422405e+03, 6.61819690e+01],\n",
       "       [4.93344729e+01, 6.94586619e+03, 5.08028920e+01],\n",
       "       [5.47965081e+01, 8.48775429e+03, 7.56032095e+01],\n",
       "       [4.40250315e+01, 1.02098680e+04, 3.49535319e+01],\n",
       "       [6.01020524e+01, 3.34839124e+04, 6.79614014e+01],\n",
       "       [2.14973570e+01, 5.66649407e+03, 5.22581102e+00],\n",
       "       [3.58167988e+01, 3.99476782e+03, 5.58688149e+01],\n",
       "       [7.03555716e+01, 7.75514886e+03, 8.48845290e+01],\n",
       "       [5.40173471e+01, 7.39195527e+03, 6.78483968e+01],\n",
       "       [6.63366768e+01, 9.03142408e+03, 7.10160025e+01],\n",
       "       [4.87022837e+01, 8.87633491e+03, 2.94142934e+01],\n",
       "       [4.21710991e+01, 9.09874018e+03, 3.13241324e+01],\n",
       "       [5.43580956e+01, 6.83838002e+03, 8.28220613e+01],\n",
       "       [5.01157301e+01, 1.04779636e+04, 3.95504076e+01],\n",
       "       [6.51973684e+01, 5.46522802e+03, 4.00343423e+01],\n",
       "       [3.17727306e+01, 7.83741769e+03, 2.30200039e+01],\n",
       "       [4.39617992e+01, 6.60847516e+03, 6.03998811e+01],\n",
       "       [4.68767423e+01, 1.09148335e+04, 3.60912036e+01],\n",
       "       [4.75544260e+01, 6.58561686e+03, 4.29353258e+01],\n",
       "       [7.57415386e+01, 4.47508339e+03, 8.23484499e+01],\n",
       "       [4.88377318e+01, 6.58614416e+03, 5.17309562e+01],\n",
       "       [5.23851041e+01, 1.04834130e+04, 7.60786088e+01],\n",
       "       [6.11143372e+01, 7.55537370e+03, 1.00000000e+02],\n",
       "       [4.10370800e+01, 8.84397629e+03, 4.92060590e+01],\n",
       "       [6.92444677e+01, 3.59351461e+04, 8.43031885e+01],\n",
       "       [4.62655767e+01, 1.03588044e+04, 2.86605058e+01],\n",
       "       [4.15157289e+01, 3.77991224e+03, 4.78252990e+01],\n",
       "       [2.59879638e+01, 6.18028289e+03, 1.20790137e+01],\n",
       "       [6.77868237e+01, 9.47626977e+03, 8.61318205e+01],\n",
       "       [2.77671723e+01, 4.17231684e+03, 1.59435410e+01],\n",
       "       [3.94284862e+01, 8.66275368e+03, 5.60282674e+01],\n",
       "       [5.05036105e+01, 9.24552279e+03, 3.16395250e+01],\n",
       "       [5.08590084e+01, 3.74671488e+03, 5.35726521e+01],\n",
       "       [4.41592969e+01, 1.13551887e+04, 4.86239423e+01],\n",
       "       [3.94764503e+01, 7.31031373e+03, 1.89245427e+01],\n",
       "       [4.25772728e+01, 7.14288887e+03, 7.14433791e+01],\n",
       "       [4.79074966e+01, 6.48630709e+03, 5.15925983e+01],\n",
       "       [7.69804408e+01, 8.64754898e+03, 1.00000000e+02],\n",
       "       [5.49810742e+01, 9.56129723e+03, 2.84000229e+01],\n",
       "       [6.86367887e+01, 4.94471117e+03, 6.42872379e+01],\n",
       "       [2.32814568e+01, 6.07567496e+03, 9.30427747e+00],\n",
       "       [7.65510120e+01, 2.25585987e+04, 7.18029632e+01],\n",
       "       [4.26710153e+01, 7.01317368e+03, 1.93881018e+01],\n",
       "       [6.11202450e+01, 9.49689323e+03, 4.69649834e+01],\n",
       "       [5.54604588e+01, 3.83439779e+03, 4.80142757e+01],\n",
       "       [3.68345698e+01, 8.40329758e+03, 4.39682347e+01],\n",
       "       [2.75687342e+01, 4.72833160e+03, 4.39587012e+01],\n",
       "       [3.15544490e+01, 8.21522813e+03, 2.74897733e+01],\n",
       "       [6.91395825e+01, 7.61717828e+03, 5.63638374e+01],\n",
       "       [3.91781919e+01, 9.33214237e+03, 3.52621353e+01],\n",
       "       [6.92080007e+01, 3.52120238e+04, 7.43157594e+01],\n",
       "       [6.45610834e+01, 5.07774431e+03, 5.66924990e+01],\n",
       "       [4.30255284e+01, 8.97683996e+03, 4.27202780e+01],\n",
       "       [4.04786346e+01, 3.65035358e+03, 4.80597029e+01],\n",
       "       [4.35944823e+01, 3.74217378e+03, 4.29498577e+01],\n",
       "       [4.65568381e+01, 3.58544887e+03, 5.32689984e+01],\n",
       "       [5.78735078e+01, 9.55475704e+03, 3.80700757e+01],\n",
       "       [3.64380095e+01, 7.45749690e+03, 7.37211842e+00],\n",
       "       [4.22880266e+01, 3.91322215e+03, 5.61520398e+01],\n",
       "       [4.23746219e+01, 8.04140151e+03, 3.74217697e+01],\n",
       "       [3.92739644e+01, 8.60364781e+03, 2.34661719e+01],\n",
       "       [5.45018162e+01, 3.67014032e+03, 7.72781812e+01],\n",
       "       [5.30964367e+01, 9.39797099e+03, 3.21266866e+01],\n",
       "       [4.39526340e+01, 7.08882826e+03, 7.26340941e+01],\n",
       "       [7.00474623e+01, 5.14763393e+03, 5.68286929e+01],\n",
       "       [6.92452154e+01, 4.87220625e+03, 7.68612105e+01],\n",
       "       [6.57906806e+01, 9.43819261e+03, 6.51210033e+01],\n",
       "       [5.42703633e+01, 1.08017764e+04, 5.26419797e+01],\n",
       "       [5.35179961e+01, 9.39975634e+03, 4.40673897e+01],\n",
       "       [4.44592976e+01, 7.36322170e+03, 6.30981996e+01],\n",
       "       [5.20437569e+01, 7.01432059e+03, 6.46413266e+01],\n",
       "       [7.05442644e+01, 6.54565304e+03, 6.16363154e+01],\n",
       "       [3.93819657e+01, 8.58083674e+03, 4.40852741e+01],\n",
       "       [4.67258410e+01, 8.72018286e+03, 2.03787656e+01],\n",
       "       [6.23594456e+01, 8.76024071e+03, 7.28248087e+01],\n",
       "       [4.67088552e+01, 3.57930222e+03, 4.50413466e+01],\n",
       "       [4.88452922e+01, 1.07626330e+04, 5.02075424e+01],\n",
       "       [5.01221201e+01, 6.59657921e+03, 3.92538272e+01],\n",
       "       [5.20016101e+01, 6.54765269e+03, 5.31290438e+01],\n",
       "       [5.03182672e+01, 9.26896410e+03, 4.28375632e+01],\n",
       "       [7.38518096e+01, 4.41762362e+03, 8.12589831e+01],\n",
       "       [4.23346111e+01, 3.66526417e+03, 5.14999053e+01],\n",
       "       [5.99738408e+01, 9.84556904e+03, 5.86624981e+01],\n",
       "       [7.11018149e+01, 4.91227746e+03, 7.92340107e+01],\n",
       "       [4.61443021e+01, 6.82310245e+03, 6.98753901e+01],\n",
       "       [5.27706197e+01, 8.41588011e+03, 7.20889210e+01],\n",
       "       [5.61476747e+01, 1.09090176e+04, 6.98908440e+01],\n",
       "       [7.43486048e+01, 1.06252102e+04, 6.37353744e+01],\n",
       "       [4.06754745e+01, 8.20397346e+03, 1.57053526e+01],\n",
       "       [4.18858121e+01, 3.72908386e+03, 4.80055515e+01],\n",
       "       [4.66713353e+01, 7.35586935e+03, 5.68662126e+01],\n",
       "       [4.77044874e+01, 6.49071122e+03, 5.34619844e+01],\n",
       "       [4.06284434e+01, 8.70903049e+03, 5.60977914e+01],\n",
       "       [6.67337805e+01, 1.02996870e+04, 6.68469183e+01],\n",
       "       [4.36895450e+01, 6.62331962e+03, 4.84896431e+01],\n",
       "       [5.56974530e+01, 3.25533886e+04, 3.46325872e+01],\n",
       "       [4.23233633e+01, 3.74747542e+03, 3.48352390e+01],\n",
       "       [6.68119012e+01, 1.39375776e+04, 5.29120650e+01],\n",
       "       [4.71803156e+01, 6.91979063e+03, 5.55746380e+01],\n",
       "       [7.32713836e+01, 8.70347395e+03, 9.05109550e+01],\n",
       "       [4.64325805e+01, 6.51429022e+03, 4.13707685e+01],\n",
       "       [4.59848665e+01, 3.86494740e+03, 6.19307834e+01],\n",
       "       [2.94061786e+01, 4.30223361e+03, 1.50198963e+01],\n",
       "       [6.77946953e+01, 6.15306762e+03, 8.15681047e+01],\n",
       "       [7.73981952e+01, 1.60523492e+04, 7.67841935e+01],\n",
       "       [4.70961629e+01, 7.30895234e+03, 4.99089162e+01],\n",
       "       [3.07378666e+01, 5.28259493e+03, 1.18859684e+01],\n",
       "       [6.10366689e+01, 1.40195043e+04, 3.04830590e+01],\n",
       "       [5.04563507e+01, 1.03198658e+04, 4.06827741e+01],\n",
       "       [5.06371585e+01, 3.74145384e+03, 5.70679116e+01],\n",
       "       [3.16551970e+01, 5.02209332e+03, 3.70931485e+01],\n",
       "       [4.38389983e+01, 8.07585058e+03, 4.29997919e+01],\n",
       "       [5.27157824e+01, 1.44663014e+04, 3.74174420e+01],\n",
       "       [3.07144701e+01, 4.88434417e+03, 3.82135335e+01],\n",
       "       [6.88933053e+01, 4.80997789e+03, 5.67155732e+01],\n",
       "       [7.80432055e+01, 1.31497632e+04, 6.58327583e+01],\n",
       "       [5.99111592e+01, 9.39985803e+03, 6.49123557e+01],\n",
       "       [7.82357690e+01, 1.54738309e+04, 7.83086655e+01],\n",
       "       [4.69905872e+01, 6.92089412e+03, 5.92197382e+01],\n",
       "       [6.44795868e+01, 8.95416022e+03, 7.18357204e+01],\n",
       "       [7.06072851e+01, 1.32794340e+04, 7.62604129e+01],\n",
       "       [7.11226113e+01, 1.86072807e+04, 6.86265828e+01],\n",
       "       [5.56062377e+01, 3.86362781e+03, 4.80224295e+01],\n",
       "       [4.27351818e+01, 9.91768255e+03, 2.50419008e+01],\n",
       "       [4.47199301e+01, 1.10469430e+04, 4.01304927e+01],\n",
       "       [5.85585145e+01, 1.06753672e+04, 1.00000000e+02],\n",
       "       [7.60708654e+01, 1.13544260e+04, 6.95740155e+01],\n",
       "       [4.71927891e+01, 6.57253036e+03, 6.08464476e+01],\n",
       "       [6.50973331e+01, 3.23113575e+04, 3.33004248e+01],\n",
       "       [5.17335550e+01, 9.54546128e+03, 2.87642950e+01],\n",
       "       [5.83834177e+01, 1.04195743e+04, 8.29407826e+01],\n",
       "       [5.87579411e+01, 1.10993463e+04, 6.14191496e+01],\n",
       "       [4.00217131e+01, 3.96923123e+03, 6.67305628e+01],\n",
       "       [5.24476319e+01, 1.02242228e+04, 4.88498675e+01],\n",
       "       [6.69926078e+01, 4.55283871e+03, 9.17295169e+01],\n",
       "       [5.79863715e+01, 8.83633874e+03, 4.84536430e+01],\n",
       "       [6.34772511e+01, 4.38007108e+03, 6.66687561e+01],\n",
       "       [7.70374058e+01, 4.36711491e+03, 8.77235460e+01],\n",
       "       [4.51661544e+01, 9.34714997e+03, 1.54636797e+01],\n",
       "       [4.69870906e+01, 6.91155265e+03, 5.59185602e+01],\n",
       "       [4.82607773e+01, 6.69039204e+03, 6.33270977e+01],\n",
       "       [7.25715245e+01, 2.13931949e+04, 7.87622522e+01],\n",
       "       [4.57766800e+01, 3.58184505e+03, 4.40071398e+01],\n",
       "       [5.76576751e+01, 3.26922691e+04, 4.55783120e+01],\n",
       "       [4.58325061e+01, 3.87207660e+03, 6.04878794e+01],\n",
       "       [4.35914769e+01, 3.87416904e+03, 4.89698453e+01],\n",
       "       [7.93033051e+01, 1.27559523e+04, 6.47048073e+01],\n",
       "       [5.27407339e+01, 9.24972935e+03, 4.49756015e+01],\n",
       "       [6.50663437e+01, 6.85577300e+03, 6.05281297e+01],\n",
       "       [4.26341111e+01, 3.68854947e+03, 5.97862910e+01],\n",
       "       [4.54320713e+01, 1.30776795e+04, 3.25380070e+01],\n",
       "       [5.65306593e+01, 9.22144075e+03, 6.84366150e+01],\n",
       "       [6.14426984e+01, 6.30924641e+03, 3.54122695e+01],\n",
       "       [4.79445409e+01, 3.59074765e+03, 6.13945920e+01],\n",
       "       [4.74374738e+01, 7.36425123e+03, 2.67416156e+01],\n",
       "       [7.72248734e+01, 2.50125368e+04, 7.87503477e+01],\n",
       "       [8.01557847e+01, 9.30772383e+03, 8.64804229e+01],\n",
       "       [7.10006106e+01, 5.84270591e+03, 8.57719671e+01],\n",
       "       [7.54387187e+01, 5.46325249e+03, 8.40089228e+01],\n",
       "       [3.98127641e+01, 1.07123051e+04, 2.05224657e+01],\n",
       "       [4.68680284e+01, 6.92393303e+03, 6.60105244e+01],\n",
       "       [7.80232786e+01, 1.35179236e+04, 5.32751743e+01],\n",
       "       [4.89528929e+01, 1.05631503e+04, 4.52626760e+01],\n",
       "       [4.68475131e+01, 1.04752200e+04, 4.12608649e+01],\n",
       "       [4.91234164e+01, 1.02973232e+04, 3.14323183e+01],\n",
       "       [3.98630562e+01, 3.80724461e+03, 4.77751564e+01],\n",
       "       [5.51098902e+01, 1.10234228e+04, 6.35878354e+01],\n",
       "       [7.13997307e+01, 5.34471670e+03, 7.56107899e+01],\n",
       "       [4.94247006e+01, 6.60242299e+03, 3.04553653e+01],\n",
       "       [5.57072075e+01, 3.25740223e+04, 2.38373930e+01],\n",
       "       [3.60685399e+01, 9.03800893e+03, 5.10863280e+01],\n",
       "       [4.16641087e+01, 3.96792019e+03, 5.97202022e+01],\n",
       "       [5.40440996e+01, 6.65216542e+03, 5.74688293e+01],\n",
       "       [5.87585257e+01, 3.29442002e+04, 6.05661200e+01],\n",
       "       [5.24420023e+01, 1.03407157e+04, 4.78929502e+01],\n",
       "       [5.36464698e+01, 7.54266730e+03, 8.50790705e+01],\n",
       "       [5.07413371e+01, 3.73647203e+03, 6.03969976e+01],\n",
       "       [4.81873198e+01, 8.88478047e+03, 3.57039656e+01],\n",
       "       [4.58423673e+01, 6.86105618e+03, 6.35523904e+01],\n",
       "       [4.08246315e+01, 3.61129168e+03, 5.76238465e+01],\n",
       "       [8.32088944e+01, 5.93411318e+03, 9.18105113e+01],\n",
       "       [4.45835805e+01, 1.22372382e+04, 3.39336204e+01],\n",
       "       [4.89709207e+01, 1.07138934e+04, 4.31456575e+01],\n",
       "       [5.61098406e+01, 1.41169338e+04, 3.06054933e+01],\n",
       "       [4.98531531e+01, 6.60045217e+03, 4.20175963e+01],\n",
       "       [5.24821238e+01, 8.94904483e+03, 3.92864411e+01]])"
      ]
     },
     "execution_count": 14,
     "metadata": {},
     "output_type": "execute_result"
    }
   ],
   "source": [
    "logi_clf_d = LogisticRegression(random_state=0).fit(X_train_d, y_train_d)\n",
    "\n",
    "print('Accuracy of Logistic Regression (on 1d-scale data)')\n",
    "print('training set accuracy:', logi_clf_d.score(X_train_d, y_train_d))\n",
    "print('test set accuracy:', logi_clf_d.score(X_test_d, y_test_d))\n",
    "\n",
    "X_test_d\n",
    "#y_test_d\n",
    "\n",
    "# plt.figure(figsize=(20,10))\n",
    "# plt.plot(np.arange(X_test_d.shape[0]), logi_clf_d.predict(X_test_d), 'ro', label = \"classification\")\n",
    "# plt.plot(np.arange(X_test_d.shape[0]), y_test_d, 'bo', label = \"truth labels\")\n",
    "# plt.title('Logistic Regression: 1d-scale trend prediction')\n",
    "# plt.legend()\n",
    "# plt.show()"
   ]
  },
  {
   "cell_type": "code",
   "execution_count": 50,
   "metadata": {},
   "outputs": [
    {
     "name": "stdout",
     "output_type": "stream",
     "text": [
      "hour scale price data\n",
      "True count: 24621\n",
      "False count: 6002\n",
      "Train set True/False ratio: 4489 / 4514\n",
      "Test set True/False ratio: 1513 / 1488\n",
      "Accuracy of Ridge Classifier (on 1h-scale data, 50/50 dataset)\n",
      "training set accuracy: 0.6551149616794402\n",
      "test set accuracy: 0.6704431856047984\n"
     ]
    }
   ],
   "source": [
    "print('hour scale price data')\n",
    "print('True count:', len(y_h[y_h == True]))\n",
    "print('False count:', len(y_h[y_h == False]))\n",
    "\n",
    "indices = np.where(y_h == True)[0]\n",
    "if len(y_h[y_h == True]) > len(y_h[y_h == False]):\n",
    "    indices = np.random.choice(indices, size = len(y_h[y_h == False]), replace = False)\n",
    "else:\n",
    "    raise NotImplementedError\n",
    "    \n",
    "# Combine the `True` indices with `False` indices\n",
    "indices = np.concatenate((indices, np.where(y_h == False)[0]))\n",
    "seed=1234\n",
    "X_train_h_even, X_test_h_even, y_train_h_even, y_test_h_even = train_test_split(X_h[indices], y_h[indices])\n",
    "print('Train set True/False ratio:', len(np.where(y_train_h_even == True)[0]), '/', len(np.where(y_train_h_even == False)[0]))\n",
    "print('Test set True/False ratio:', len(np.where(y_test_h_even == True)[0]), '/', len(np.where(y_test_h_even == False)[0]))\n",
    "\n",
    "ridge_clf_h_even = RidgeClassifier().fit(X_train_h_even, y_train_h_even)\n",
    "\n",
    "print('Accuracy of Ridge Classifier (on 1h-scale data, 50/50 dataset)')\n",
    "print('training set accuracy:', ridge_clf_h_even.score(X_train_h_even, y_train_h_even))\n",
    "print('test set accuracy:', ridge_clf_h_even.score(X_test_h_even, y_test_h_even))\n",
    "\n",
    "\n",
    "\n",
    "\n",
    "\n"
   ]
  }
 ],
 "metadata": {
  "kernelspec": {
   "display_name": "Python 3",
   "language": "python",
   "name": "python3"
  },
  "language_info": {
   "codemirror_mode": {
    "name": "ipython",
    "version": 3
   },
   "file_extension": ".py",
   "mimetype": "text/x-python",
   "name": "python",
   "nbconvert_exporter": "python",
   "pygments_lexer": "ipython3",
   "version": "3.8.3"
  }
 },
 "nbformat": 4,
 "nbformat_minor": 4
}
