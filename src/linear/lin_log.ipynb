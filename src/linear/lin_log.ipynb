{
 "cells": [
  {
   "cell_type": "markdown",
   "metadata": {},
   "source": [
    "## Using Linear models (from `sklearn.linear_model`) on crypto price trend prediction"
   ]
  },
  {
   "cell_type": "code",
   "execution_count": 16,
   "metadata": {},
   "outputs": [],
   "source": [
    "# Preliminary code needed for importing from parent directory\n",
    "import os,sys,inspect\n",
    "currentdir = os.path.dirname(os.path.abspath(inspect.getfile(inspect.currentframe())))\n",
    "parentdir = os.path.dirname(currentdir)\n",
    "sys.path.insert(0,parentdir) \n",
    "\n",
    "# Import Karan's data API\n",
    "from data import series\n",
    "\n",
    "import numpy as np\n",
    "\n",
    "# This classifier first converts the target values into {-1, 1} and then treats the problem as a regression task\n",
    "# (multi-output regression in the multiclass case).\n",
    "from sklearn.linear_model import RidgeClassifier\n",
    "from sklearn.linear_model import LogisticRegression\n",
    "\n",
    "from sklearn.metrics import accuracy_score\n",
    "from sklearn.model_selection import train_test_split"
   ]
  },
  {
   "cell_type": "markdown",
   "metadata": {},
   "source": [
    "## Define a function to generate X, y from raw data (Use Karan's data API)"
   ]
  },
  {
   "cell_type": "code",
   "execution_count": 17,
   "metadata": {},
   "outputs": [],
   "source": [
    "def gen_X_y(symbol: str, timeframe: str):\n",
    "    # Create a series for BTC-USDT pair on 1h candles\n",
    "    # btc = series.DataSeries('BTCUSDT', '1h')\n",
    "    btc = series.DataSeries(symbol, timeframe)\n",
    "    data = btc.getData()\n",
    "    # print(data.keys())\n",
    "\n",
    "    price_close = data['close']\n",
    "    # print(len(price_close))\n",
    "    \n",
    "    prev5 = np.concatenate([\n",
    "            # pivot timeframe\n",
    "            price_close[np.newaxis, 5:],\n",
    "            # previous 5 timeframes\n",
    "            price_close[np.newaxis, 4:-1], # 1 frame ago\n",
    "            price_close[np.newaxis, 3:-2], # 2 frame ago\n",
    "            price_close[np.newaxis, 2:-3], # 3 frame ago\n",
    "            price_close[np.newaxis, 1:-4], # 4 frame ago\n",
    "            price_close[np.newaxis, :-5],  # 5 frame ago\n",
    "        ],\n",
    "        axis = 0\n",
    "    )\n",
    "\n",
    "    # Generate truth values (y)\n",
    "    y = prev5[0, :] > np.amin(prev5[1:, :], axis = 0)\n",
    "    print('timeframe:', timeframe)\n",
    "    print('number of times where trend is up: ', y[y == True].shape)\n",
    "    print('number of times where trend is down: ', y[y == False].shape)\n",
    "    \n",
    "    btc.addIndicator('RSI', data['close'], 30) # 30-timeframe RSI\n",
    "\n",
    "    btc.addIndicator('EMA', data['close'], 30) # 30-timeframe EMA\n",
    "    # btc1h.addIndicator('EMA', btc1h.getData()['close'], 50) # 50-timeframe EMA\n",
    "\n",
    "    ## MFI: https://www.investopedia.com/terms/m/mfi.asp\n",
    "    btc.addIndicator('MFI', data['high'], data['low'], data['close'], data['volume'], 10) # 10-timeframe MFI\n",
    "\n",
    "    ## MACD: https://www.investopedia.com/terms/m/macd.asp\n",
    "    btc.addIndicator('MACD', data['close'], 12, 26) # fast = 12, slow = 26\n",
    "\n",
    "    indicators = btc.getIndicators()\n",
    "    #for indicator in indicators.keys():\n",
    "        #print(indicator)\n",
    "        \n",
    "    time_cut = 50\n",
    "\n",
    "    # Each technical indicator consists one column of X.\n",
    "    X = np.concatenate(\n",
    "        (\n",
    "            indicators['RSI'][np.newaxis, time_cut:].T,\n",
    "            indicators['EMA'][np.newaxis, time_cut:].T,\n",
    "            indicators['MFI'][np.newaxis, time_cut:].T\n",
    "        ),\n",
    "        axis = 1\n",
    "    )\n",
    "    # print('shape of X:', X.shape)\n",
    "    # print('shape of y:', y.shape)\n",
    "\n",
    "    y_truncate = y[(time_cut - 5):]\n",
    "    \n",
    "    return (X, y_truncate)"
   ]
  },
  {
   "cell_type": "markdown",
   "metadata": {},
   "source": [
    "## Generate X, y from 1h-scale data"
   ]
  },
  {
   "cell_type": "code",
   "execution_count": 18,
   "metadata": {},
   "outputs": [
    {
     "name": "stdout",
     "output_type": "stream",
     "text": [
      "timeframe: 1h\n",
      "number of times where trend is up:  (24655,)\n",
      "number of times where trend is down:  (6013,)\n",
      "X, y generated from 1h-scale data\n",
      "train set size: (22967,)\n",
      "test set size: (7656,)\n"
     ]
    }
   ],
   "source": [
    "X_h, y_h = gen_X_y('BTCUSDT', '1h')\n",
    "\n",
    "# Split train/test sets\n",
    "X_train_h, X_test_h, y_train_h, y_test_h = train_test_split(X_h, y_h)\n",
    "print('X, y generated from 1h-scale data')\n",
    "print('train set size:', y_train_h.shape)\n",
    "print('test set size:', y_test_h.shape)"
   ]
  },
  {
   "cell_type": "markdown",
   "metadata": {},
   "source": [
    "## Generate X, y from 1d-scale data"
   ]
  },
  {
   "cell_type": "code",
   "execution_count": 19,
   "metadata": {},
   "outputs": [
    {
     "name": "stdout",
     "output_type": "stream",
     "text": [
      "timeframe: 1d\n",
      "number of times where trend is up:  (1039,)\n",
      "number of times where trend is down:  (239,)\n",
      "X, y generated from 1d-scale data\n",
      "train set size: (924,)\n",
      "test set size: (309,)\n"
     ]
    }
   ],
   "source": [
    "X_d, y_d = gen_X_y('BTCUSDT', '1d')\n",
    "\n",
    "# Split train/test sets\n",
    "X_train_d, X_test_d, y_train_d, y_test_d = train_test_split(X_d, y_d)\n",
    "print('X, y generated from 1d-scale data')\n",
    "print('train set size:', y_train_d.shape)\n",
    "print('test set size:', y_test_d.shape)"
   ]
  },
  {
   "cell_type": "markdown",
   "metadata": {},
   "source": [
    "## Ridge Classifier"
   ]
  },
  {
   "cell_type": "code",
   "execution_count": 20,
   "metadata": {},
   "outputs": [
    {
     "name": "stdout",
     "output_type": "stream",
     "text": [
      "Accuracy of Ridge Classifier (on 1h-scale data)\n",
      "training set accuracy: 0.8049375190490704\n",
      "test set accuracy: 0.8083855799373041\n",
      "Accuracy of Ridge Classifier (on 1d-scale data)\n",
      "training set accuracy: 0.8106060606060606\n",
      "test set accuracy: 0.8155339805825242\n"
     ]
    }
   ],
   "source": [
    "ridge_clf_h = RidgeClassifier().fit(X_train_h, y_train_h)\n",
    "\n",
    "print('Accuracy of Ridge Classifier (on 1h-scale data)')\n",
    "print('training set accuracy:', ridge_clf_h.score(X_train_h, y_train_h))\n",
    "print('test set accuracy:', ridge_clf_h.score(X_test_h, y_test_h))\n",
    "# print('test set accuracy:', accuracy_score(y_test_h, ridge_clf.predict(X_test_h))) # Exact same result as above\n",
    "\n",
    "ridge_clf_d = RidgeClassifier().fit(X_train_d, y_train_d)\n",
    "\n",
    "print('Accuracy of Ridge Classifier (on 1d-scale data)')\n",
    "print('training set accuracy:', ridge_clf_d.score(X_train_d, y_train_d))\n",
    "print('test set accuracy:', ridge_clf_d.score(X_test_d, y_test_d))"
   ]
  },
  {
   "cell_type": "markdown",
   "metadata": {},
   "source": [
    "## Logistic Regression"
   ]
  },
  {
   "cell_type": "code",
   "execution_count": 21,
   "metadata": {},
   "outputs": [
    {
     "name": "stdout",
     "output_type": "stream",
     "text": [
      "Accuracy of Logistic Regression (on 1h-scale data)\n",
      "training set accuracy: 0.8032829712195759\n",
      "test set accuracy: 0.8066875653082549\n",
      "Accuracy of Logistic Regression (on 1d-scale data)\n",
      "training set accuracy: 0.8095238095238095\n",
      "test set accuracy: 0.8155339805825242\n"
     ]
    }
   ],
   "source": [
    "logi_clf_h = LogisticRegression(random_state=0).fit(X_train_h, y_train_h)\n",
    "\n",
    "print('Accuracy of Logistic Regression (on 1h-scale data)')\n",
    "print('training set accuracy:', logi_clf.score(X_train_h, y_train_h))\n",
    "print('test set accuracy:', logi_clf.score(X_test_h, y_test_h))\n",
    "\n",
    "logi_clf_d = LogisticRegression(random_state=0).fit(X_train_h, y_train_h)\n",
    "\n",
    "print('Accuracy of Logistic Regression (on 1d-scale data)')\n",
    "print('training set accuracy:', logi_clf.score(X_train_d, y_train_d))\n",
    "print('test set accuracy:', logi_clf.score(X_test_d, y_test_d))"
   ]
  },
  {
   "cell_type": "markdown",
   "metadata": {},
   "source": [
    "According to the above results from `Ridge Classifier` & `Logistic Regression`, these **linear** models are working quite well on the price data.\n",
    "\n",
    "The problem is that our dataset itself is skewed.. 80% or above consists of `True` labels for the `BUY` signal (whether we use `1h` scale or `1d` scale price data). We need to try training the classifiers using a dataset that consists of roughly 50% of `True` labels.."
   ]
  },
  {
   "cell_type": "code",
   "execution_count": null,
   "metadata": {},
   "outputs": [],
   "source": []
  }
 ],
 "metadata": {
  "kernelspec": {
   "display_name": "Python 3",
   "language": "python",
   "name": "python3"
  },
  "language_info": {
   "codemirror_mode": {
    "name": "ipython",
    "version": 3
   },
   "file_extension": ".py",
   "mimetype": "text/x-python",
   "name": "python",
   "nbconvert_exporter": "python",
   "pygments_lexer": "ipython3",
   "version": "3.7.7"
  }
 },
 "nbformat": 4,
 "nbformat_minor": 4
}
