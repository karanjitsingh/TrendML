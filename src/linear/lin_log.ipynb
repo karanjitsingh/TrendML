{
 "cells": [
  {
   "cell_type": "markdown",
   "metadata": {},
   "source": [
    "## Using Linear models (from `sklearn.linear_model`) on crypto price trend prediction"
   ]
  },
  {
   "cell_type": "code",
   "execution_count": 1,
   "metadata": {},
   "outputs": [],
   "source": [
    "# Preliminary code needed for importing from parent directory\n",
    "import os,sys,inspect\n",
    "currentdir = os.path.dirname(os.path.abspath(inspect.getfile(inspect.currentframe())))\n",
    "parentdir = os.path.dirname(currentdir)\n",
    "sys.path.insert(0,parentdir) \n",
    "\n",
    "# Import Karan's data API\n",
    "from data import series\n",
    "\n",
    "import numpy as np\n",
    "\n",
    "# This classifier first converts the target values into {-1, 1} and then treats the problem as a regression task\n",
    "# (multi-output regression in the multiclass case).\n",
    "from sklearn.linear_model import RidgeClassifier\n",
    "from sklearn.linear_model import LogisticRegression\n",
    "\n",
    "from sklearn.model_selection import train_test_split"
   ]
  },
  {
   "cell_type": "code",
   "execution_count": 2,
   "metadata": {},
   "outputs": [
    {
     "name": "stdout",
     "output_type": "stream",
     "text": [
      "dict_keys(['_', 'open_time', 'open', 'high', 'low', 'close', 'volume', 'close_time', 'quote_asset_volume', 'num_trades', 'taker_buy_base_asset_volume', 'taker_buy_quote_asset_volume', 'ignore'])\n",
      "30673\n"
     ]
    }
   ],
   "source": [
    "# Create a series for BTC-USDT pair on 1h candles\n",
    "btc1h = series.DataSeries('BTCUSDT', '1h')\n",
    "data = btc1h.getData()\n",
    "print(data.keys())\n",
    "\n",
    "price_close = data['close']\n",
    "print(len(price_close))"
   ]
  },
  {
   "cell_type": "code",
   "execution_count": 3,
   "metadata": {},
   "outputs": [
    {
     "name": "stdout",
     "output_type": "stream",
     "text": [
      "(30668,)\n",
      "number of times where trend is up:  (24655,)\n",
      "number of times where trend is down:  (6013,)\n"
     ]
    }
   ],
   "source": [
    "prev5 = np.concatenate([\n",
    "        # pivot timeframe\n",
    "        price_close[np.newaxis, 5:],\n",
    "        # previous 5 timeframes\n",
    "        price_close[np.newaxis, 4:-1], # 1 frame ago\n",
    "        price_close[np.newaxis, 3:-2], # 2 frame ago\n",
    "        price_close[np.newaxis, 2:-3], # 3 frame ago\n",
    "        price_close[np.newaxis, 1:-4], # 4 frame ago\n",
    "        price_close[np.newaxis, :-5],  # 5 frame ago\n",
    "    ],\n",
    "    axis = 0\n",
    ")\n",
    "\n",
    "# Generate truth values (y)\n",
    "y = prev5[0, :] > np.amin(prev5[1:, :], axis = 0)\n",
    "print(y.shape)\n",
    "print('number of times where trend is up: ', y[y == True].shape)\n",
    "print('number of times where trend is down: ', y[y == False].shape)"
   ]
  },
  {
   "cell_type": "code",
   "execution_count": 4,
   "metadata": {},
   "outputs": [
    {
     "name": "stdout",
     "output_type": "stream",
     "text": [
      "RSI\n",
      "EMA\n",
      "MFI\n",
      "MACD\n"
     ]
    }
   ],
   "source": [
    "btc1h.addIndicator('RSI', data['close'], 30) # 30-timeframe RSI\n",
    "\n",
    "btc1h.addIndicator('EMA', data['close'], 30) # 30-timeframe EMA\n",
    "# btc1h.addIndicator('EMA', btc1h.getData()['close'], 50) # 50-timeframe EMA\n",
    "\n",
    "## MFI: https://www.investopedia.com/terms/m/mfi.asp\n",
    "btc1h.addIndicator('MFI', data['high'], data['low'], data['close'], data['volume'], 10) # 10-timeframe MFI\n",
    "\n",
    "## MACD: https://www.investopedia.com/terms/m/macd.asp\n",
    "btc1h.addIndicator('MACD', data['close'], 12, 26) # fast = 12, slow = 26\n",
    "\n",
    "indicators = btc1h.getIndicators()\n",
    "for indicator in indicators.keys():\n",
    "    print(indicator)"
   ]
  },
  {
   "cell_type": "code",
   "execution_count": 5,
   "metadata": {},
   "outputs": [
    {
     "name": "stdout",
     "output_type": "stream",
     "text": [
      "train set size: (22967,)\n",
      "test set size: (7656,)\n"
     ]
    }
   ],
   "source": [
    "time_cut = 50\n",
    "\n",
    "# Each technical indicator consists one column of X.\n",
    "X = np.concatenate(\n",
    "    (\n",
    "        indicators['RSI'][np.newaxis, time_cut:].T,\n",
    "        indicators['EMA'][np.newaxis, time_cut:].T,\n",
    "        indicators['MFI'][np.newaxis, time_cut:].T\n",
    "    ),\n",
    "    axis = 1\n",
    ")\n",
    "# print('shape of X:', X.shape)\n",
    "# print('shape of y:', y.shape)\n",
    "\n",
    "y_truncate = y[(time_cut - 5):]\n",
    "\n",
    "# Split train/test sets\n",
    "X_train, X_test, y_train, y_test = train_test_split(X, y_truncate)\n",
    "print('train set size:', y_train.shape)\n",
    "print('test set size:', y_test.shape)"
   ]
  },
  {
   "cell_type": "markdown",
   "metadata": {},
   "source": [
    "## Ridge Classifier"
   ]
  },
  {
   "cell_type": "code",
   "execution_count": 6,
   "metadata": {},
   "outputs": [
    {
     "name": "stdout",
     "output_type": "stream",
     "text": [
      "Accuracy of Ridge Classifier\n",
      "training set accuracy: 0.8060260373579483\n",
      "test set accuracy: 0.8047283176593522\n"
     ]
    }
   ],
   "source": [
    "ridge_clf = RidgeClassifier().fit(X_train, y_train)\n",
    "\n",
    "print('Accuracy of Ridge Classifier')\n",
    "print('training set accuracy:', ridge_clf.score(X_train, y_train))\n",
    "print('test set accuracy:', ridge_clf.score(X_test, y_test))"
   ]
  },
  {
   "cell_type": "markdown",
   "metadata": {},
   "source": [
    "## Logistic Regression"
   ]
  },
  {
   "cell_type": "code",
   "execution_count": 7,
   "metadata": {},
   "outputs": [
    {
     "name": "stdout",
     "output_type": "stream",
     "text": [
      "Accuracy of Logistic Regression\n",
      "training set accuracy: 0.8045891931902295\n",
      "test set accuracy: 0.8025078369905956\n"
     ]
    }
   ],
   "source": [
    "logi_clf = LogisticRegression(random_state=0).fit(X_train, y_train)\n",
    "\n",
    "print('Accuracy of Logistic Regression')\n",
    "print('training set accuracy:', logi_clf.score(X_train, y_train))\n",
    "print('test set accuracy:', logi_clf.score(X_test, y_test))"
   ]
  },
  {
   "cell_type": "markdown",
   "metadata": {},
   "source": [
    "According to the above results from `Ridge Classifier` & `Logistic Regression`, these **linear** models are working quite well on the price data.."
   ]
  },
  {
   "cell_type": "code",
   "execution_count": null,
   "metadata": {},
   "outputs": [],
   "source": []
  }
 ],
 "metadata": {
  "kernelspec": {
   "display_name": "Python 3",
   "language": "python",
   "name": "python3"
  },
  "language_info": {
   "codemirror_mode": {
    "name": "ipython",
    "version": 3
   },
   "file_extension": ".py",
   "mimetype": "text/x-python",
   "name": "python",
   "nbconvert_exporter": "python",
   "pygments_lexer": "ipython3",
   "version": "3.7.9"
  }
 },
 "nbformat": 4,
 "nbformat_minor": 4
}
